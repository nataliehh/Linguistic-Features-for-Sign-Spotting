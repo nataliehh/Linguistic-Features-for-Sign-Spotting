{
 "cells": [
  {
   "cell_type": "markdown",
   "id": "c27898ab",
   "metadata": {},
   "source": [
    "# Gloss Analysis - DO NOT UPLOAD TO PUBLIC REPO\n",
    "In this notebook, we analyze the ways in which the Corpus NGT videos are annotated. First, we store the annotations in a nested dictionary, where `anns_dicts` has a key for each annotation file (e.g. `S001_CNGT0090.eaf` is a key for the dictionary). We will call these video keys. For each of these video keys, we have *another* dictionary, where each key is equal to a gloss/sign, a sign key. So, in `anns_dicts['S001_CNGT0090.eaf']`, we find this nested dictionary with for instance the sign `HOND-A` as one of its sign keys. This sign key then lets us access the timestamps (in milliseconds) where that sign is annotated. For instance `anns_dicts['S001_CNGT0090.eaf']['HOND-A']` could return `[(0,100), (200, 350)]`, which would mean that the sign `HOND-A` is signed from 0 to 100 ms and again from 200 to 350ms in the video of `S001_CNGT0090`.\n",
    "\n",
    "We check how often signs are signed in some specific way:\n",
    "- Manual simultaneity: two signs, both performed with one hand, are signed at the same time\n",
    "- Two-handedness: both hands are annotated as signing the same sign simultaneously\n",
    "- Weak hand drop: a sign is performed with two-hands normally, but only one hand is annotated as performing the sign\n",
    "\n",
    "Based on this, we check how often these types of sign instances occur.\n",
    "\n",
    "The average duration of an annotation is computed here, both with outliers and without. We then get only the top X (e.g. top 1000) signs based on how often they're annotated. For each of these annotations, we also check how many of the frames are properly recognized by Mediapipe (i.e. landmarks are detected).\n",
    "Additionally, we compare what signs are present in the Corpus NGT videos versus NGT SignBank to see how representative the Corpus is of the known signs in Dutch sign language."
   ]
  },
  {
   "cell_type": "code",
   "execution_count": 1,
   "id": "f8aac03b",
   "metadata": {},
   "outputs": [],
   "source": [
    "# Imports\n",
    "import pympi\n",
    "import re\n",
    "import copy\n",
    "import os\n",
    "import numpy as np\n",
    "import pandas as pd\n",
    "from sklearn import preprocessing\n",
    "\n",
    "import importlib\n",
    "\n",
    "# Keep python tools up to date\n",
    "from tools import tools, constants\n",
    "importlib.reload(tools)\n",
    "importlib.reload(constants)\n",
    "\n",
    "# Import all functions from the tools\n",
    "from tools.tools import*\n",
    "from tools.constants import PATHS # Path constants"
   ]
  },
  {
   "cell_type": "markdown",
   "id": "8185cf00",
   "metadata": {},
   "source": [
    "# SignBank gloss analysis"
   ]
  },
  {
   "cell_type": "code",
   "execution_count": 2,
   "id": "bdcb861b",
   "metadata": {
    "scrolled": false
   },
   "outputs": [
    {
     "name": "stdout",
     "output_type": "stream",
     "text": [
      "CPU times: total: 203 ms\n",
      "Wall time: 200 ms\n"
     ]
    }
   ],
   "source": [
    "%%time\n",
    "# Root where all the annotated .eaf sign files are present\n",
    "dataset_root = PATHS['cngt_vids_and_eaf']\n",
    "\n",
    "# List the .eaf files in the root directory to investigate\n",
    "anns_in_dir = [file for file in os.listdir(dataset_root) if file.endswith('.eaf')]\n",
    "\n",
    "# Initialize list of all gloss annotations\n",
    "tiers = []\n",
    "anns_dicts = {}\n",
    "mouthings_dicts = {}\n",
    "destination = PATHS['cngt_anns']\n",
    "if not os.path.exists(destination):\n",
    "    for ann_file in anns_in_dir:\n",
    "        # Read in the Eaf file \n",
    "        eaf_file = pympi.Elan.Eaf(os.path.join(dataset_root, ann_file))\n",
    "\n",
    "        # Get the glosses and mouthings of the file\n",
    "        anns_dict, mouthings_dict = get_gloss_vals(eaf_file)\n",
    "\n",
    "        # Store the glosses, mouthings and tiers\n",
    "        anns_dicts[ann_file] = anns_dict\n",
    "        mouthings_dicts[ann_file] = mouthings_dict\n",
    "        tiers += get_tiers(eaf_file)\n",
    "\n",
    "    # print(list(set(tiers)))\n",
    "    store_dict(destination, anns_dicts)\n",
    "else:\n",
    "    anns_dicts = load_dict(destination)"
   ]
  },
  {
   "cell_type": "code",
   "execution_count": 3,
   "id": "051600eb",
   "metadata": {},
   "outputs": [
    {
     "name": "stdout",
     "output_type": "stream",
     "text": [
      "Total number of annotations: 162145\n"
     ]
    }
   ],
   "source": [
    "total_anns = 0\n",
    "for key in anns_dicts:\n",
    "    val = anns_dicts[key]\n",
    "    for val_key in val:\n",
    "        vals = val[val_key]\n",
    "        len_vals = len(vals)\n",
    "        total_anns += len_vals\n",
    "\n",
    "print(\"Total number of annotations:\", total_anns)"
   ]
  },
  {
   "cell_type": "code",
   "execution_count": 4,
   "id": "b976f3f4",
   "metadata": {},
   "outputs": [
    {
     "name": "stdout",
     "output_type": "stream",
     "text": [
      "CPU times: total: 172 ms\n",
      "Wall time: 162 ms\n"
     ]
    }
   ],
   "source": [
    "%%time\n",
    "# Getting annotations, separated by simultaneity and handedness\n",
    "man_sim_hand_dist = {}\n",
    "man_sim_hand_dist_path = PATHS['man_sim_hand_dist']\n",
    "if not os.path.exists(man_sim_hand_dist_path):\n",
    "    for i, key in enumerate(anns_dicts):\n",
    "        print(i, end = '\\r')\n",
    "        # Getting the annotations for a specific EAF file\n",
    "        anns_dict = anns_dicts[key]\n",
    "        # Computing hand distinction + manual simultaneity instances\n",
    "        # Make a deepcopy of the anns_dict because we don't want to alter the arrays within it\n",
    "        # (Which would happen if we didn't copy at all or only did shallow copies)\n",
    "        man_sim_hand_dist[key] = man_sim_and_hand_dist(copy.deepcopy(anns_dict))\n",
    "    store_dict(man_sim_hand_dist_path, man_sim_hand_dist)\n",
    "else:\n",
    "    man_sim_hand_dist = load_dict(man_sim_hand_dist_path)"
   ]
  },
  {
   "cell_type": "code",
   "execution_count": 5,
   "id": "af7616a1",
   "metadata": {},
   "outputs": [
    {
     "name": "stdout",
     "output_type": "stream",
     "text": [
      "Keys in man_sim_hand_dist: ['S001_CNGT0090.eaf', 'S001_CNGT0091.eaf', 'S001_CNGT0093.eaf', 'S001_CNGT0094.eaf', 'S001_CNGT0095.eaf', 'S001_CNGT0096.eaf', 'S001_CNGT0097.eaf', 'S001_CNGT0098.eaf', 'S001_CNGT0099.eaf', 'S001_CNGT0101.eaf']\n",
      "Keys in man_sim_hand_dist['S001_CNGT0090.eaf']: dict_keys(['PALM-UP', 'PT-1hand:1', 'SELF-A', 'PT-1hand', '100-A', '30-A', 'FINISHED-A', '#AN', 'SCHOOL-A', 'FAMILY-C', '2-A', '[NAAM]', 'DEAF-A', 'SPACE-A', '1-A', 'HEAR-A', 'FINE', 'NAME-C', '#K', '#[naam]', 'PARENT-B', 'ALSO-A', 'SIBLING-A', '~KLEIN-A', 'CHILD.PL', 'LARGE-VERTICAL-F', 'NEAR-C', 'SMALL-VERTICAL-F', 'PALM-UP&&WORK-A', 'PALM-UP__2H', 'CONFUSED-B__2H', 'WORK-A__2H', '19-C__2H', '7-A__2H', 'FINISHED-A__2H', 'BORN-A__2H', 'AMSTERDAM__2H', 'FOLLOW__2H', 'THEN-A__2H', 'PT-1hand__2H', 'SIGN-A__2H'])\n"
     ]
    }
   ],
   "source": [
    "keys = list(man_sim_hand_dist.keys())\n",
    "# Print some examples of the dictionary keys and the keys of a nested dictionary within it\n",
    "print('Keys in man_sim_hand_dist: {}'.format(keys[:10]))\n",
    "print('Keys in man_sim_hand_dist[\\'{}\\']: {}'.format(keys[0], man_sim_hand_dist[keys[0]].keys()))"
   ]
  },
  {
   "cell_type": "code",
   "execution_count": 6,
   "id": "320d713b",
   "metadata": {},
   "outputs": [],
   "source": [
    "# Currently the dictionaries are grouped by EAF file: i.e. {'EAF_001': {...}, 'EAF_002': {...}}\n",
    "# We now fuse these groupings\n",
    "fused_man_sim_hand_dist = fuse_ann_values(man_sim_hand_dist)\n",
    "fused_anns_dicts = fuse_ann_values(copy.deepcopy(anns_dicts))"
   ]
  },
  {
   "cell_type": "code",
   "execution_count": 7,
   "id": "89b5aa2e",
   "metadata": {},
   "outputs": [],
   "source": [
    "# Splitting each annotation value into its name value and its time value\n",
    "t_man_sim_hand_dist, a_man_sim_hand_dist = split_ann_values(fused_man_sim_hand_dist)\n",
    "t_anns_dicts, a_anns_dicts = split_ann_values(fused_anns_dicts)"
   ]
  },
  {
   "cell_type": "code",
   "execution_count": 8,
   "id": "ef0c8c0f",
   "metadata": {},
   "outputs": [
    {
     "name": "stdout",
     "output_type": "stream",
     "text": [
      "Total manual simultaneity instances: 17428 \n",
      "Individual counts (top 100):\n",
      " [456, 326, 313, 306, 121, 105, 103, 92, 84, 78, 66, 66, 63, 62, 62, 60, 58, 56, 53, 49, 45, 45, 43, 39, 39, 37, 37, 37, 34, 34, 33, 33, 33, 32, 32, 31, 29, 29, 28, 28, 27, 26, 26, 26, 26, 25, 25, 25, 25, 24, 24, 23, 23, 23, 23, 22, 22, 22, 22, 21, 21, 21, 20, 20, 20, 20, 20, 19, 19, 19, 19, 19, 19, 18, 18, 18, 18, 18, 17, 17, 17, 17, 17, 17, 17, 17, 17, 16, 16, 16, 16, 16, 16, 16, 16, 16, 16, 16, 15, 15]\n",
      "\n",
      "Total two-handed instances: 39541\n"
     ]
    }
   ],
   "source": [
    "# Checking the number of manual simultaneity instances\n",
    "manual_sim_counts = [(k,len(v)) for k,v in fused_man_sim_hand_dist.items() if '&&' in k]\n",
    "\n",
    "# Checking the number of two-handed instances\n",
    "two_handed_counts = [(k,len(v)) for k,v in fused_man_sim_hand_dist.items() if '__2H' in k]\n",
    "\n",
    "m_s_c_sorted = sorted(manual_sim_counts, key = lambda x: x[1], reverse = True)\n",
    "\n",
    "zipped = list(zip(*m_s_c_sorted))\n",
    "keys = zipped[0]\n",
    "values = zipped[1]\n",
    "\n",
    "print('Total manual simultaneity instances:', sum(values), '\\nIndividual counts (top 100):\\n', list(values[:100]))\n",
    "\n",
    "print('\\nTotal two-handed instances:', sum([t[1] for t in two_handed_counts]))"
   ]
  },
  {
   "cell_type": "code",
   "execution_count": 9,
   "id": "1f37b68a",
   "metadata": {},
   "outputs": [],
   "source": [
    "# For the next analysis for which we use two-handedness as a factor\n",
    "# We need to be using the annotations values with handedness disctinction\n",
    "one_handed = [ann for ann in a_man_sim_hand_dist if '__2H' not in ann]\n",
    "two_handed = [ann for ann in a_man_sim_hand_dist if '__2H' in ann]"
   ]
  },
  {
   "cell_type": "code",
   "execution_count": 10,
   "id": "853063cb",
   "metadata": {},
   "outputs": [],
   "source": [
    "from itertools import chain\n",
    "one_handed_expanded = list(set(list(chain(*[x.split('&&') for x in one_handed]))))"
   ]
  },
  {
   "cell_type": "code",
   "execution_count": 11,
   "id": "c6d88a1f",
   "metadata": {},
   "outputs": [
    {
     "name": "stdout",
     "output_type": "stream",
     "text": [
      "Signs normally performed two-handed (preview)\n"
     ]
    },
    {
     "data": {
      "text/plain": [
       "7        MISHANDELEN\n",
       "8       ACCEPTEREN-A\n",
       "9       ACCEPTEREN-B\n",
       "11         ONGELUK-A\n",
       "12         ONGELUK-B\n",
       "            ...     \n",
       "4136             7-B\n",
       "4139            70-C\n",
       "4143              77\n",
       "4145             8-B\n",
       "4152             9-B\n",
       "Name: Annotation ID Gloss (Dutch), Length: 1678, dtype: object"
      ]
     },
     "metadata": {},
     "output_type": "display_data"
    },
    {
     "name": "stdout",
     "output_type": "stream",
     "text": [
      "Weak hand drop candidates (two-handed signs which are performed one-handed)\n"
     ]
    },
    {
     "data": {
      "text/plain": [
       "21            BEZIG\n",
       "23        AANPASSEN\n",
       "63          TEGEN-A\n",
       "68       MEE-EENS-B\n",
       "77       ALLEMAAL-A\n",
       "           ...     \n",
       "4074           19-C\n",
       "4075           19-D\n",
       "4080    1:OVERNEMEN\n",
       "4139           70-C\n",
       "4145            8-B\n",
       "Name: Annotation ID Gloss (Dutch), Length: 447, dtype: object"
      ]
     },
     "metadata": {},
     "output_type": "display_data"
    },
    {
     "name": "stdout",
     "output_type": "stream",
     "text": [
      "Weak hand drop candidates (including manual simultaneous instances)\n"
     ]
    },
    {
     "data": {
      "text/plain": [
       "8       ACCEPTEREN-A\n",
       "9       ACCEPTEREN-B\n",
       "12         ONGELUK-B\n",
       "21             BEZIG\n",
       "23         AANPASSEN\n",
       "            ...     \n",
       "4128         6.ORD-B\n",
       "4136             7-B\n",
       "4139            70-C\n",
       "4145             8-B\n",
       "4152             9-B\n",
       "Name: Annotation ID Gloss (Dutch), Length: 859, dtype: object"
      ]
     },
     "metadata": {},
     "output_type": "display_data"
    }
   ],
   "source": [
    "# Read in the signs with the corresponding names\n",
    "gloss_df = pd.read_csv(PATHS['signbank_dictionary_info'])\n",
    "# Get the signs where the handedness is known and is equal to 2 (so: two-handed signs)\n",
    "normally_two_handed = gloss_df[(gloss_df['Handedness'].str.contains('2'))&(~gloss_df['Handedness'].isna())]\n",
    "print('Signs normally performed two-handed (preview)')\n",
    "display(normally_two_handed['Annotation ID Gloss (Dutch)'])\n",
    "\n",
    "# Finding which signs are signed seemingly one-handedly despite normally being two-handed\n",
    "# This could indicate weak hand drop\n",
    "weak_hand_drop = normally_two_handed[normally_two_handed['Annotation ID Gloss (Dutch)'].isin(one_handed)]\n",
    "print('Weak hand drop candidates (two-handed signs which are performed one-handed)')\n",
    "display(weak_hand_drop['Annotation ID Gloss (Dutch)'])\n",
    "\n",
    "# Finding which signs are signed seemingly one-handedly despite normally being two-handed\n",
    "# This could indicate weak hand drop\n",
    "weak_hand_drop_expanded = normally_two_handed[normally_two_handed['Annotation ID Gloss (Dutch)'].isin(one_handed_expanded)]\n",
    "print('Weak hand drop candidates (including manual simultaneous instances)')\n",
    "display(weak_hand_drop_expanded['Annotation ID Gloss (Dutch)'])"
   ]
  },
  {
   "cell_type": "code",
   "execution_count": 12,
   "id": "39a9fcb7",
   "metadata": {
    "scrolled": true
   },
   "outputs": [
    {
     "name": "stdout",
     "output_type": "stream",
     "text": [
      "Counts of two-handed signs with weak hand drop\n",
      "Each triple: (num_two_handed_signings, num_weak_hand_drops, total_signings)\n"
     ]
    },
    {
     "data": {
      "text/plain": [
       "[('PO', (5556, 1, 5557)),\n",
       " ('GEBAREN-A', (1532, 1, 1533)),\n",
       " ('ZELFDE-A', (740, 1, 741)),\n",
       " ('GEHANDICAPT-A', (371, 1, 372)),\n",
       " ('KLAAR-A', (328, 1, 329)),\n",
       " ('WERKEN-A', (306, 1, 307)),\n",
       " ('GROEP-A', (298, 1, 299)),\n",
       " ('SAMEN-A', (269, 1, 270)),\n",
       " ('TOCH-A', (256, 1, 257)),\n",
       " ('NIET-C', (237, 1, 238)),\n",
       " ('AL', (227, 1, 228)),\n",
       " ('PV', (212, 1, 213)),\n",
       " ('ONTWIKKELEN-A', (202, 1, 203)),\n",
       " ('PLUS-A', (200, 1, 201)),\n",
       " ('NIET-B', (199, 1, 200)),\n",
       " ('BLIJVEN', (194, 1, 195)),\n",
       " ('TWIJFEL-A', (192, 1, 193)),\n",
       " ('ZO', (167, 1, 168)),\n",
       " ('GEBOREN-A', (165, 1, 166)),\n",
       " ('COMMUNICEREN', (156, 1, 157)),\n",
       " ('CONTACT-MAKEN', (152, 1, 153)),\n",
       " ('PRATEN-B', (148, 1, 149)),\n",
       " ('GEBAREN-C', (145, 1, 146)),\n",
       " ('OF', (142, 1, 143)),\n",
       " ('TAAL-B', (137, 1, 138)),\n",
       " ('VOGEL-A', (136, 1, 137)),\n",
       " ('JAAR-B', (136, 1, 137)),\n",
       " ('ZELFDE-B', (135, 1, 136)),\n",
       " ('VRIEND-A', (135, 1, 136)),\n",
       " ('BIJVOORBEELD-B', (129, 1, 130)),\n",
       " ('AMSTERDAM', (127, 1, 128)),\n",
       " ('VERSCHIL-A', (126, 1, 127)),\n",
       " ('DOEN-A', (121, 1, 122)),\n",
       " ('ALLES-A', (119, 1, 120)),\n",
       " ('VERTELLEN', (111, 1, 112)),\n",
       " ('VOLGEN', (110, 1, 111)),\n",
       " ('VERSCHILLENDE-A', (108, 1, 109)),\n",
       " ('IN-A', (107, 1, 108)),\n",
       " ('LOPEN-D', (104, 1, 105)),\n",
       " ('AUTO', (103, 1, 104)),\n",
       " ('HELPEN-A', (103, 1, 104)),\n",
       " ('HOE-B', (103, 1, 104)),\n",
       " ('BIJ-B', (102, 1, 103)),\n",
       " ('WOORD-A', (97, 1, 98)),\n",
       " ('TOLK', (95, 1, 96)),\n",
       " ('NEDERLAND-A', (92, 1, 93)),\n",
       " ('MAAKT-NIET-UIT', (92, 1, 93)),\n",
       " ('WEG-C', (89, 1, 90)),\n",
       " ('AANHALINGSTEKENS', (84, 1, 85)),\n",
       " ('NIKS-A', (83, 1, 84)),\n",
       " ('HUIS-A', (82, 1, 83)),\n",
       " ('ECHT-A', (82, 1, 83)),\n",
       " ('LESGEVEN', (80, 1, 81)),\n",
       " ('KEER', (79, 1, 80)),\n",
       " ('DOOR-A', (78, 1, 79)),\n",
       " ('AANPASSEN', (78, 1, 79)),\n",
       " ('WAAROM', (77, 1, 78)),\n",
       " ('FIETSEN', (77, 1, 78)),\n",
       " ('GROEP-C', (75, 1, 76)),\n",
       " ('VEEL-B', (72, 1, 73)),\n",
       " ('VERANDEREN-A', (72, 1, 73)),\n",
       " ('BESLUITEN-A', (71, 1, 72)),\n",
       " ('PRIMA', (70, 1, 71)),\n",
       " ('WEG-A', (69, 1, 70)),\n",
       " ('GEVOLG', (67, 1, 68)),\n",
       " ('WAAR-A', (65, 1, 66)),\n",
       " ('GEBRUIKEN-A', (65, 1, 66)),\n",
       " ('SCHILDPAD-A', (65, 1, 66)),\n",
       " ('AAN-DEZE-KANT-A', (62, 1, 63)),\n",
       " ('LOPEN-E', (61, 1, 62)),\n",
       " ('DISCUSSIEREN', (61, 1, 62)),\n",
       " ('GEBRUIKEN-C', (61, 1, 62)),\n",
       " ('BINNEN-A', (59, 1, 60)),\n",
       " ('GEBOUW-C', (58, 1, 59)),\n",
       " ('SPORT-A', (55, 1, 56)),\n",
       " ('LEVEN-B', (55, 1, 56)),\n",
       " ('TEGEN-A', (55, 1, 56)),\n",
       " ('BETER', (54, 1, 55)),\n",
       " ('GEBEUREN-A', (54, 1, 55)),\n",
       " ('VOELEN-B', (54, 1, 55)),\n",
       " ('PANIEK-A', (53, 1, 54)),\n",
       " ('BEGINNEN-A', (53, 1, 54)),\n",
       " ('POES-C', (53, 1, 54)),\n",
       " ('VERHAAL', (52, 1, 53)),\n",
       " ('TYPEN', (52, 1, 53)),\n",
       " ('DUIDELIJK-A', (52, 1, 53)),\n",
       " ('SCHOOL-B', (51, 1, 52)),\n",
       " ('KAPOT', (51, 1, 52)),\n",
       " ('VERDWIJNEN-C', (51, 1, 52)),\n",
       " ('ENZOVOORTS-A', (50, 1, 51)),\n",
       " ('OEFENEN-A', (50, 1, 51)),\n",
       " ('VERANDEREN-B', (50, 1, 51)),\n",
       " ('RUSTIG', (49, 1, 50)),\n",
       " ('AAP', (49, 1, 50)),\n",
       " ('ZITTEN-A', (48, 1, 49)),\n",
       " ('OVERNEMEN', (48, 1, 49)),\n",
       " ('HOND-A', (47, 1, 48)),\n",
       " ('ALLEMAAL-A', (47, 1, 48)),\n",
       " ('GOED-B', (46, 1, 47)),\n",
       " ('TE-MAKEN-MET', (46, 1, 47)),\n",
       " ('OVER-A', (44, 1, 45)),\n",
       " ('NAAM-D', (44, 1, 45)),\n",
       " ('APART-A', (44, 1, 45)),\n",
       " ('TEST', (44, 1, 45)),\n",
       " ('PASSEN', (44, 1, 45)),\n",
       " ('BOT', (43, 1, 44)),\n",
       " ('BEER-B', (43, 1, 44)),\n",
       " ('HOE-A', (41, 1, 42)),\n",
       " ('NIKS-B', (40, 1, 41)),\n",
       " ('ZWAAR-A', (39, 1, 40)),\n",
       " ('KUNNEN-NIET-A', (38, 1, 39)),\n",
       " ('OPEN-A', (38, 1, 39)),\n",
       " ('EVEN-WACHTEN', (37, 1, 38)),\n",
       " ('INFORMEREN:1', (37, 1, 38)),\n",
       " ('ONTWIKKELEN-B', (37, 1, 38)),\n",
       " ('TWEETALIG', (37, 1, 38)),\n",
       " ('HALF-A', (36, 1, 37)),\n",
       " ('OMGAAN-A', (36, 1, 37)),\n",
       " ('ALLES-B', (36, 1, 37)),\n",
       " ('NADENKEN-A', (35, 1, 36)),\n",
       " ('VOOR-A', (35, 1, 36)),\n",
       " ('MOGEN-A', (35, 1, 36)),\n",
       " ('VERSCHILLENDE-B', (35, 1, 36)),\n",
       " ('SCHRIKKEN-B', (34, 1, 35)),\n",
       " ('OP-B', (34, 1, 35)),\n",
       " ('ZORGEN-A', (34, 1, 35)),\n",
       " ('FEEST-A', (34, 1, 35)),\n",
       " ('INTERNET-A', (34, 1, 35)),\n",
       " ('GELIJK-HEBBEN', (33, 1, 34)),\n",
       " ('SOMS-A', (33, 1, 34)),\n",
       " ('SCHAAP-A', (33, 1, 34)),\n",
       " ('POES-A', (33, 1, 34)),\n",
       " ('VAAK', (32, 1, 33)),\n",
       " ('KLEIN-HORIZONTAAL-B', (32, 1, 33)),\n",
       " ('VERTICALE-CYLINDER-A', (32, 1, 33)),\n",
       " ('VERSPREIDEN-B', (31, 1, 32)),\n",
       " ('VERHUIZEN-A', (30, 1, 31)),\n",
       " ('VECHTEN', (30, 1, 31)),\n",
       " ('AMERIKA', (30, 1, 31)),\n",
       " ('VAARDIG', (30, 1, 31)),\n",
       " ('8-B', (30, 1, 31)),\n",
       " ('VERSPREIDEN-A', (30, 1, 31)),\n",
       " ('ZWEMMEN-A', (29, 1, 30)),\n",
       " ('ROLLEN', (29, 1, 30)),\n",
       " ('PERIODE-A', (29, 1, 30)),\n",
       " ('WACHTEN-A', (28, 1, 29)),\n",
       " ('LICHAAM-A', (28, 1, 29)),\n",
       " ('TOT-NU-TOE', (28, 1, 29)),\n",
       " ('RICHTING', (27, 1, 28)),\n",
       " ('BABY', (27, 1, 28)),\n",
       " ('FAMILIE-A', (27, 1, 28)),\n",
       " ('ZO-B', (27, 1, 28)),\n",
       " ('GROOT-VERTICAAL-C', (27, 1, 28)),\n",
       " ('VOOR-C', (26, 1, 27)),\n",
       " ('10-B', (26, 1, 27)),\n",
       " ('STUDEREN', (26, 1, 27)),\n",
       " ('STROOMSCHOK-KRIJGEN', (26, 1, 27)),\n",
       " ('HAAS-A', (26, 1, 27)),\n",
       " ('ENZOVOORTS-D', (25, 1, 26)),\n",
       " ('LOPEN-H', (25, 1, 26)),\n",
       " ('VOETBALLEN-A', (24, 1, 25)),\n",
       " ('HORIZONTALE-RECHTHOEK', (23, 1, 24)),\n",
       " ('MIDDEN', (23, 1, 24)),\n",
       " ('KUNNEN-NIET-B', (23, 1, 24)),\n",
       " ('VAST', (23, 1, 24)),\n",
       " ('VASTHOUDEN-I', (23, 1, 24)),\n",
       " ('OPPERVLAK', (22, 1, 23)),\n",
       " ('VORM-A', (22, 1, 23)),\n",
       " ('VERWACHTEN', (22, 1, 23)),\n",
       " ('KLEIN-HORIZONTAAL-C', (21, 1, 22)),\n",
       " ('HOE-C', (21, 1, 22)),\n",
       " ('ONDERDRUKKEN-D', (21, 1, 22)),\n",
       " ('STAAN-D', (21, 1, 22)),\n",
       " ('LANGZAAM', (21, 1, 22)),\n",
       " ('MEE-EENS-B', (21, 1, 22)),\n",
       " ('BOS-A', (20, 1, 21)),\n",
       " ('OPRICHTEN', (20, 1, 21)),\n",
       " ('LAATSTE-B', (20, 1, 21)),\n",
       " ('BETALEN', (20, 1, 21)),\n",
       " ('BEZIG', (20, 1, 21)),\n",
       " ('PERFECT-A', (20, 1, 21)),\n",
       " ('BOUWEN', (20, 1, 21)),\n",
       " ('STAAN-A', (19, 1, 20)),\n",
       " ('ONDER', (19, 1, 20)),\n",
       " ('KOFFIE-A', (19, 1, 20)),\n",
       " ('MUZIEK', (19, 1, 20)),\n",
       " ('UITLEGGEN', (19, 1, 20)),\n",
       " ('MET-VLIEGTUIG-VLIEGEN-B', (18, 1, 19)),\n",
       " ('BAL-A', (18, 1, 19)),\n",
       " ('VERDIENEN', (18, 1, 19)),\n",
       " ('ZELFDE-C', (18, 1, 19)),\n",
       " ('DRUK-A', (18, 1, 19)),\n",
       " ('TREIN', (18, 1, 19)),\n",
       " ('JE-BEST-DOEN', (18, 1, 19)),\n",
       " ('LIJN-C', (18, 1, 19)),\n",
       " ('MAKEN', (18, 1, 19)),\n",
       " ('BASIS', (18, 1, 19)),\n",
       " ('INTERNET-C', (18, 1, 19)),\n",
       " ('VLAKBIJ-A', (17, 1, 18)),\n",
       " ('ONTSTAAN-A', (17, 1, 18)),\n",
       " ('ZATERDAG', (17, 1, 18)),\n",
       " ('HAND-UP', (17, 1, 18)),\n",
       " ('GEZOND-A', (17, 1, 18)),\n",
       " ('WERKEN-B', (17, 1, 18)),\n",
       " ('DOORGAAN', (17, 1, 18)),\n",
       " ('AVOND-A', (16, 1, 17)),\n",
       " ('UITWISSELEN-A', (16, 1, 17)),\n",
       " ('UITWISSELEN-C', (16, 1, 17)),\n",
       " ('STABOL', (16, 1, 17)),\n",
       " ('BIER-A', (15, 1, 16)),\n",
       " ('GEHANDICAPT-C', (15, 1, 16)),\n",
       " ('NAAM-B', (15, 1, 16)),\n",
       " ('TOUW-A', (15, 1, 16)),\n",
       " ('PRATEN-E', (15, 1, 16)),\n",
       " ('ZO-LATEN', (15, 1, 16)),\n",
       " ('BLIJ-B', (14, 1, 15)),\n",
       " ('OVERLIJDEN', (14, 1, 15)),\n",
       " ('AFHANKELIJK-A', (14, 1, 15)),\n",
       " ('BROEK', (14, 1, 15)),\n",
       " ('ZIN', (14, 1, 15)),\n",
       " ('AF-A', (14, 1, 15)),\n",
       " ('EMAIL-B', (14, 1, 15)),\n",
       " ('TECHNIEK', (14, 1, 15)),\n",
       " ('VAN-TOT-A', (14, 1, 15)),\n",
       " ('LEZEN', (14, 1, 15)),\n",
       " ('VOOR-B', (14, 1, 15)),\n",
       " ('DOOR-ELKAAR-C', (14, 1, 15)),\n",
       " ('EIND-SCENE', (14, 1, 15)),\n",
       " ('LACHEN-A', (13, 1, 14)),\n",
       " ('HUILEN-A', (13, 1, 14)),\n",
       " ('BELANGRIJK-B', (13, 1, 14)),\n",
       " ('AFWIJKEN', (13, 1, 14)),\n",
       " ('AANPAKKEN', (13, 1, 14)),\n",
       " ('RADELOOS', (13, 1, 14)),\n",
       " ('VERTELLEN:1', (13, 1, 14)),\n",
       " ('WEDDEN', (13, 1, 14)),\n",
       " ('GROEIEN-A', (12, 1, 13)),\n",
       " ('OMGEVING-B', (12, 1, 13)),\n",
       " ('FRUSTRATIE-A', (12, 1, 13)),\n",
       " ('10-A', (12, 1, 13)),\n",
       " ('PARAPLU', (12, 1, 13)),\n",
       " ('OFFICIEEL', (12, 1, 13)),\n",
       " ('SPELEN-C', (12, 1, 13)),\n",
       " ('SPANNEND', (11, 1, 12)),\n",
       " ('HALF-B', (11, 1, 12)),\n",
       " ('PLOTSELING-A', (11, 1, 12)),\n",
       " ('STOPPEN', (11, 1, 12)),\n",
       " ('REKENEN-A', (11, 1, 12)),\n",
       " ('MAAT-HORIZONTAAL-D', (10, 1, 11)),\n",
       " ('TUSSEN-A', (10, 1, 11)),\n",
       " ('BESTAAN-A', (10, 1, 11)),\n",
       " ('OPEN-C', (10, 1, 11)),\n",
       " ('KOUD-A', (10, 1, 11)),\n",
       " ('PANIEK-B', (10, 1, 11)),\n",
       " ('BEHOUDEN', (10, 1, 11)),\n",
       " ('OPLOSSEN-A', (10, 1, 11)),\n",
       " ('REGEN-B', (10, 1, 11)),\n",
       " ('DONKER', (9, 1, 10)),\n",
       " ('VOETBALLEN-B', (9, 1, 10)),\n",
       " ('APART-B', (9, 1, 10)),\n",
       " ('WELKOM', (9, 1, 10)),\n",
       " ('MAAT-HORIZONTAAL-C', (9, 1, 10)),\n",
       " ('IETS-B', (9, 1, 10)),\n",
       " ('OPVALLEN-B', (9, 1, 10)),\n",
       " ('DUIZELIG', (9, 1, 10)),\n",
       " ('ZWAAR-B', (9, 1, 10)),\n",
       " ('VERMORZELEN', (9, 1, 10)),\n",
       " ('TEGEN-AAN-LOPEN-B', (9, 1, 10)),\n",
       " ('GAUW', (9, 1, 10)),\n",
       " ('STIMULEREN-A', (9, 1, 10)),\n",
       " ('SYLVESTER-A', (9, 1, 10)),\n",
       " ('SCHREEUWEN-A', (8, 1, 9)),\n",
       " ('ECHT-C', (8, 1, 9)),\n",
       " ('PAARD-C', (8, 1, 9)),\n",
       " ('KAMP-A', (8, 1, 9)),\n",
       " ('KOFFIE-B', (8, 1, 9)),\n",
       " ('BIJ-C', (8, 1, 9)),\n",
       " ('ENZOVOORTS-C', (8, 1, 9)),\n",
       " ('STAAN-C', (8, 1, 9)),\n",
       " ('MIMIEK-A', (8, 1, 9)),\n",
       " ('HANDELEN', (8, 1, 9)),\n",
       " ('OPZIJ', (8, 1, 9)),\n",
       " ('HAAS-B', (8, 1, 9)),\n",
       " ('HAAS-C', (8, 1, 9)),\n",
       " ('COMMUNICATIE', (8, 1, 9)),\n",
       " ('GEBAREN-E', (8, 1, 9)),\n",
       " ('ZWAAR-C', (7, 1, 8)),\n",
       " ('NATUUR-A', (7, 1, 8)),\n",
       " ('WAKKER', (7, 1, 8)),\n",
       " ('BIJZONDER', (7, 1, 8)),\n",
       " ('SCHOONMAKEN', (7, 1, 8)),\n",
       " ('LEVEN-A', (7, 1, 8)),\n",
       " ('IN-E', (7, 1, 8)),\n",
       " ('BEHANDELEN', (7, 1, 8)),\n",
       " ('BOOT', (7, 1, 8)),\n",
       " ('19-C', (6, 1, 7)),\n",
       " ('BLIJ-A', (6, 1, 7)),\n",
       " ('HEUVEL', (6, 1, 7)),\n",
       " ('VISUEEL-A', (6, 1, 7)),\n",
       " ('FOTO', (6, 1, 7)),\n",
       " ('INVLOED', (6, 1, 7)),\n",
       " ('POLITIEK-A', (6, 1, 7)),\n",
       " ('DIEP', (6, 1, 7)),\n",
       " ('HONGER-B', (6, 1, 7)),\n",
       " ('WACHTEN-B', (6, 1, 7)),\n",
       " ('SPRINGEN', (6, 1, 7)),\n",
       " ('TROTS-A', (6, 1, 7)),\n",
       " ('MSN-B', (6, 1, 7)),\n",
       " ('ENGELAND-B', (6, 1, 7)),\n",
       " ('BESLUITEN-B', (6, 1, 7)),\n",
       " ('LIGGEN', (6, 1, 7)),\n",
       " ('AAN-DEZE-KANT-B', (6, 1, 7)),\n",
       " ('ONGEVEER', (5, 1, 6)),\n",
       " ('HAAT', (5, 1, 6)),\n",
       " ('OEFENEN-B', (5, 1, 6)),\n",
       " ('ZWETEN-B', (5, 1, 6)),\n",
       " ('GEEN-IDEE', (5, 1, 6)),\n",
       " ('TRAM-B', (5, 1, 6)),\n",
       " ('HOTEL-B', (5, 1, 6)),\n",
       " ('FOCUS', (5, 1, 6)),\n",
       " ('GLAD', (5, 1, 6)),\n",
       " ('ONTSPANNEN-B', (5, 1, 6)),\n",
       " ('DIER', (5, 1, 6)),\n",
       " ('HAND-IN-LUCHT', (5, 1, 6)),\n",
       " ('SNEL-C', (5, 1, 6)),\n",
       " ('NAAIEN-C', (5, 1, 6)),\n",
       " ('VRIJ-C', (4, 1, 5)),\n",
       " ('PERSOON-B', (4, 1, 5)),\n",
       " ('EERLIJK-C', (4, 1, 5)),\n",
       " ('DEUR-A', (4, 1, 5)),\n",
       " ('JAMMER-C', (4, 1, 5)),\n",
       " ('OMGEVING-A', (4, 1, 5)),\n",
       " ('WARM-A', (4, 1, 5)),\n",
       " ('FIXEN', (4, 1, 5)),\n",
       " ('UITWISSELEN-D', (4, 1, 5)),\n",
       " ('KUNNEN-B', (4, 1, 5)),\n",
       " ('15-C', (3, 1, 4)),\n",
       " ('ERFELIJK-A', (3, 1, 4)),\n",
       " ('NIEUW-C', (3, 1, 4)),\n",
       " ('ONAFHANKELIJK', (3, 1, 4)),\n",
       " ('VOETBALLEN-C', (3, 1, 4)),\n",
       " ('ONDERWERP-B', (3, 1, 4)),\n",
       " ('JONG-C', (3, 1, 4)),\n",
       " ('PRATEN-G', (3, 1, 4)),\n",
       " ('VERKRACHTEN', (3, 1, 4)),\n",
       " ('INDRUK', (3, 1, 4)),\n",
       " ('ERGENS-B', (3, 1, 4)),\n",
       " ('ASSISTENT', (3, 1, 4)),\n",
       " ('BIJEENKOMEN', (3, 1, 4)),\n",
       " ('PROCENT-A', (3, 1, 4)),\n",
       " ('ENTHOUSIAST', (3, 1, 4)),\n",
       " ('PLAT-A', (3, 1, 4)),\n",
       " ('PLANK-A', (3, 1, 4)),\n",
       " ('VLAG-WAPPEREN', (3, 1, 4)),\n",
       " ('VLAG', (3, 1, 4)),\n",
       " ('BRIL', (3, 1, 4)),\n",
       " ('KUNNEN-C', (3, 1, 4)),\n",
       " ('19-D', (2, 1, 3)),\n",
       " ('VERPLAATSEN-A', (2, 1, 3)),\n",
       " ('ZWETEN-A', (2, 1, 3)),\n",
       " ('REGERING-A', (2, 1, 3)),\n",
       " ('GEVANGENIS', (2, 1, 3)),\n",
       " ('THEE', (2, 1, 3)),\n",
       " ('BLOEM-A', (2, 1, 3)),\n",
       " ('PROTEST-B', (2, 1, 3)),\n",
       " ('ROL', (2, 1, 3)),\n",
       " ('VERPLAATSEN-B', (2, 1, 3)),\n",
       " ('BRUS-E', (2, 1, 3)),\n",
       " ('VRIJWILLIG', (2, 1, 3)),\n",
       " ('STRAF-A', (2, 1, 3)),\n",
       " ('MUTS', (2, 1, 3)),\n",
       " ('PROTEST-A', (2, 1, 3)),\n",
       " ('GROEP-D', (2, 1, 3)),\n",
       " ('EINDE', (2, 1, 3)),\n",
       " ('TAXI-C', (2, 1, 3)),\n",
       " ('FRUSTRATIE-B', (2, 1, 3)),\n",
       " ('PROJECT', (2, 1, 3)),\n",
       " ('AAN-DEZE-KANT-C', (2, 1, 3)),\n",
       " ('VERDELEN', (2, 1, 3)),\n",
       " ('VOOR-E', (2, 1, 3)),\n",
       " ('OORLOG-D', (2, 1, 3)),\n",
       " ('PT:wijs', (2, 1, 3)),\n",
       " ('BEZOEKEN-A', (1, 1, 2)),\n",
       " ('HAAS-D', (1, 1, 2)),\n",
       " ('INPAKKEN', (1, 1, 2)),\n",
       " ('JEUGDHERBERG', (1, 1, 2)),\n",
       " ('WOW', (1, 1, 2)),\n",
       " ('VERTRAGING', (1, 1, 2)),\n",
       " ('GEBAREN-D', (1, 1, 2)),\n",
       " ('KRIEBELS-IN-DE-BUIK', (1, 1, 2)),\n",
       " ('SAMEN+2', (1, 1, 2)),\n",
       " ('OORZAAK', (1, 1, 2)),\n",
       " ('DIRECTEUR-B', (1, 1, 2)),\n",
       " ('VOORKEUR', (1, 1, 2)),\n",
       " ('STIMULEREN-B', (1, 1, 2)),\n",
       " ('TOCH-C', (1, 1, 2)),\n",
       " ('SCHUIM', (1, 1, 2)),\n",
       " ('RUGBY', (1, 1, 2)),\n",
       " ('ONTSLAAN-B', (1, 1, 2)),\n",
       " ('TEKST-A', (1, 1, 2)),\n",
       " ('VOORSTELLEN-B', (1, 1, 2)),\n",
       " ('POT', (1, 1, 2)),\n",
       " ('BOOM-C', (1, 1, 2)),\n",
       " ('VERVELEN-B', (1, 1, 2)),\n",
       " ('MACHINE-A', (1, 1, 2)),\n",
       " ('70-C', (1, 1, 2)),\n",
       " ('WEBCAM', (1, 1, 2)),\n",
       " ('PLAGEN-A', (1, 1, 2)),\n",
       " ('VOELEN-A', (1, 1, 2)),\n",
       " ('VRIJGEZEL-A', (1, 1, 2)),\n",
       " ('HYVES', (1, 1, 2)),\n",
       " ('PLAGEN-C', (1, 1, 2)),\n",
       " ('VERTICALE-CYLINDER-B', (1, 1, 2)),\n",
       " ('DRUK-B', (1, 1, 2)),\n",
       " ('REAGEREN-B', (1, 1, 2)),\n",
       " ('SCHEVENINGEN-A', (0, 1, 1)),\n",
       " ('OP-NmG', (0, 1, 1)),\n",
       " ('WRINGEN', (0, 1, 1)),\n",
       " ('ZIEK-C', (0, 1, 1)),\n",
       " ('GEDULD', (0, 1, 1)),\n",
       " ('BAKKEBAARD', (0, 1, 1)),\n",
       " ('PT-3hand:wijs-mid-ring', (0, 1, 1)),\n",
       " ('ZITTEN-C', (0, 1, 1)),\n",
       " ('MISSCHIEN', (0, 1, 1)),\n",
       " ('OPSCHEPPEN-B', (0, 1, 1)),\n",
       " ('VIDEO-B', (0, 1, 1)),\n",
       " ('1:OVERNEMEN', (0, 1, 1)),\n",
       " ('TUIN-A', (0, 1, 1)),\n",
       " ('HORIZONTALE-CYLINDER-B', (0, 1, 1)),\n",
       " ('VANAF-NU-B', (0, 1, 1)),\n",
       " ('VERDOMME-C', (0, 1, 1)),\n",
       " ('OORLOG-E', (0, 1, 1)),\n",
       " ('14-C', (0, 1, 1)),\n",
       " ('HEUVEL.PL', (0, 1, 1)),\n",
       " ('AFBLIJVEN', (0, 1, 1)),\n",
       " ('HUID-A', (0, 1, 1)),\n",
       " ('REKENEN-B', (0, 1, 1)),\n",
       " ('AFHANKELIJK-C', (0, 1, 1)),\n",
       " ('SOK-B', (0, 1, 1)),\n",
       " ('ZEEP', (0, 1, 1)),\n",
       " ('OVER+GETAL-A', (0, 1, 1)),\n",
       " ('VERLOEDEREN', (0, 1, 1)),\n",
       " ('NETJES-A', (0, 1, 1)),\n",
       " ('GROOT-VERTICAAL-D', (0, 1, 1)),\n",
       " ('DEMOCRATIE', (0, 1, 1)),\n",
       " ('PT:duim', (0, 1, 1)),\n",
       " ('BAAS-E', (0, 1, 1))]"
      ]
     },
     "execution_count": 12,
     "metadata": {},
     "output_type": "execute_result"
    }
   ],
   "source": [
    "# Counting how often weak-hand drop candidates are actually signed that way\n",
    "# And how often they're signed normally (i.e. two-handedly)\n",
    "one_handed_counts, two_handed_counts = get_weak_hand_drop_counts(weak_hand_drop, list(set(one_handed)), two_handed)\n",
    "\n",
    "# Grouping the counts of the two handed signs with handedness distinguisher together\n",
    "# So: we count how many times it's signed with weak hand drop, without weak hand drop, and in total (not distinguishing)\n",
    "sorted_two_hand_no_suffix = {s[0][:-4]: s[1] for s in two_handed_counts}\n",
    "sorted_one_hand = dict(one_handed_counts)\n",
    "\n",
    "both_hands = merge_dicts(sorted_two_hand_no_suffix, sorted_one_hand)\n",
    "print('Counts of two-handed signs with weak hand drop')\n",
    "print('Each triple: (num_two_handed_signings, num_weak_hand_drops, total_signings)')\n",
    "sorted(both_hands.items(), key=lambda item: item[1][1], reverse = True)"
   ]
  },
  {
   "cell_type": "code",
   "execution_count": 13,
   "id": "80547ccf",
   "metadata": {
    "scrolled": false
   },
   "outputs": [
    {
     "name": "stdout",
     "output_type": "stream",
     "text": [
      "max 44080\n",
      "Avg timespan length:\t~10 frames \t(395.3 ms)\n",
      "Median timespan length:\t~7 frames \t(280.0 ms)\n",
      "Max timespan length:\t~1102 frames \t(44080 ms)\n",
      "Min timespan length:\t~0 frames \t(1 ms)\n"
     ]
    }
   ],
   "source": [
    "# Make the timespan distinctions into a list\n",
    "lst_time_values = [t_man_sim_hand_dist, t_anns_dicts]\n",
    "lst_anns_values = [a_man_sim_hand_dist, a_anns_dicts]\n",
    "\n",
    "# Selecting a specific distinction (handedness + manual sim. = 0, no distinction = 1)\n",
    "# Ind = 1 should be used for finding out what the top 1000 signs are for creating the dataset\n",
    "# Whereas ind = 0 is used for analysis of the handedness and simultaneous signs\n",
    "ind = 1\n",
    "anns_values = lst_anns_values[ind]\n",
    "time_values = lst_time_values[ind]\n",
    "time_deltas = [abs(t[1] - t[0]) for t in time_values] # in ms\n",
    "\n",
    "counts = Counter(time_deltas)\n",
    "sorted_counts = dict(sorted(counts.items(), key=lambda item: item[1]))#Counter(time_deltas)\n",
    "\n",
    "most_common = counts.most_common()\n",
    "\n",
    "print('max', max(time_deltas))\n",
    "\n",
    "# Creates a plot of the counts\n",
    "# plot_counts(most_common)\n",
    "\n",
    "get_duration_stats(time_deltas)"
   ]
  },
  {
   "cell_type": "code",
   "execution_count": 14,
   "id": "bbd8e4bf",
   "metadata": {},
   "outputs": [
    {
     "name": "stdout",
     "output_type": "stream",
     "text": [
      "(162145,)\n",
      "(159787,)\n",
      "With outlier removal:\n",
      "Avg timespan length:\t~9 frames \t(356.3 ms)\n",
      "Median timespan length:\t~7 frames \t(280.0 ms)\n",
      "Max timespan length:\t~46 frames \t(1840 ms)\n",
      "Min timespan length:\t~0 frames \t(1 ms)\n"
     ]
    }
   ],
   "source": [
    "# Removing outliers\n",
    "from scipy import stats\n",
    "time_deltas = np.array(time_deltas)\n",
    "z = np.array(stats.zscore(time_deltas))\n",
    "non_outliers = np.where(z<3)\n",
    "print(time_deltas.shape)\n",
    "time_deltas_filtered = time_deltas[non_outliers]\n",
    "print(time_deltas_filtered.shape)\n",
    "\n",
    "print('With outlier removal:')\n",
    "get_duration_stats(time_deltas_filtered)"
   ]
  },
  {
   "cell_type": "code",
   "execution_count": 15,
   "id": "1261fff2",
   "metadata": {},
   "outputs": [
    {
     "name": "stdout",
     "output_type": "stream",
     "text": [
      "Number of annotations: 162145\n",
      "Values left after filtering for duration <= 5000: 99.89%\n"
     ]
    }
   ],
   "source": [
    "print('Number of annotations:', len(time_deltas))\n",
    "time_deltas = np.array(time_deltas)\n",
    "limit = 5000\n",
    "time_deltas_filter = np.where(time_deltas <= limit)[0] # 5 seconds or shorter annotations (>99% of annotations)\n",
    "old_shape, new_shape = time_deltas.shape[0], time_deltas_filter.shape[0]\n",
    "print('Values left after filtering for duration <= {}: {}%'.format(limit, round(100*new_shape/old_shape, 2)))\n",
    "filtered_anns_values = np.array(anns_values)[time_deltas_filter].tolist()"
   ]
  },
  {
   "cell_type": "code",
   "execution_count": 16,
   "id": "84b43f72",
   "metadata": {
    "scrolled": false
   },
   "outputs": [
    {
     "name": "stdout",
     "output_type": "stream",
     "text": [
      "Most common sign: ('PO', 15734)\n",
      "500th most common sign: ('WEEKEND-A', 48)\n"
     ]
    }
   ],
   "source": [
    "plot = False\n",
    "# Count up the glosses\n",
    "counts = Counter(filtered_anns_values)\n",
    "\n",
    "# Get the most common glosses, print and plot them\n",
    "# 250 works okay for plotting non-log, more = hardly readable\n",
    "# 2500 looks readable in logarithmic\n",
    "top_n = 500\n",
    "most_common = counts.most_common(top_n) #top_n\n",
    "# print(most_common)\n",
    "\n",
    "# Creates a list of glosses and a list of counts\n",
    "if plot:\n",
    "    plt.figure(figsize=(8,4))\n",
    "    plt.title('Counts of the {} most common glosses (logarithmic)'.format(top_n))\n",
    "    plt.yscale(\"log\")\n",
    "    plot_counts(most_common, width = 30, clean = True)\n",
    "\n",
    "# Printing some sign counts\n",
    "print('Most common sign: {}'.format(most_common[0]))\n",
    "print('{}th most common sign: {}'.format(top_n, most_common[-1]))"
   ]
  },
  {
   "cell_type": "code",
   "execution_count": 17,
   "id": "63efedd6",
   "metadata": {},
   "outputs": [
    {
     "name": "stdout",
     "output_type": "stream",
     "text": [
      "[('PO', 15921), ('PT-1hand', 15078), ('PT-1hand:1', 8630), ('GEBAREN-A', 3115), ('ZELFDE-A', 1508), ('JA-A', 1384), ('PO+PT', 1337), ('GOED-A', 1298), ('KUNNEN-A', 1222), ('ATTENTIE', 998), ('HOREN-A', 941), ('WETEN-A', 876), ('GEHANDICAPT-A', 748), ('HEE', 732), ('ZIEN-A', 730), ('KLAAR-A', 719), ('1-A', 719), ('NIET-A', 708), ('AL', 689), ('ZEGGEN', 669), ('DOOF-A', 650), ('ZELF-A', 647), ('TWIJFEL-A', 646), ('GAAN-NAAR-A', 641), ('WERKEN-A', 619), ('NU-A', 615), ('LAAT-MAAR', 608), ('GROEP-A', 608), ('PV', 604), ('KIJKEN-A', 600), ('MOETEN-A', 590), ('DAN-A', 551), ('HEBBEN-A', 550), ('BLIJVEN', 523), ('SAMEN-A', 522), ('TOCH-A', 519), ('DOOF-C', 513), ('NIET-B', 510), ('VROEGER-A', 504), ('NIET-C', 489), ('imitatie', 485), ('DOOF-B', 463), ('OF', 449), ('ONDERWIJS-A', 444), ('ZO', 442), ('RUIMTE-A', 430), ('OOK-A', 426), ('MOVE+1', 422), ('ONTWIKKELEN-A', 405), ('PLUS-A', 403), ('KRACHT', 399), ('OMDAT-A', 390), ('2-A', 389), ('PRATEN-A', 363), ('BEDOELEN', 361), ('GEBOREN-A', 354), ('TAAL-B', 347), ('SCHOOL-A', 342), ('MOOI-A', 340), ('DOEN-A', 330), ('COMMUNICEREN', 327), ('MEER-A', 321), ('PRATEN-B', 320), ('LEUK-A', 319), ('GROOT-VERTICAAL-F', 314), ('HOE-B', 312), ('BETER', 299), ('BEGRIJPEN', 299), ('CONTACT-MAKEN', 296), ('MOEILIJK-A', 295), ('VAN-A', 295), ('GEBAREN-C', 294), ('MOVE+5', 292), ('WAT-A', 291), ('AANWEZIG', 290), ('KOMEN-A:1', 289), ('PAKKEN-A', 278), ('JAAR-B', 278), ('KIND-A', 277), ('GRONINGEN', 277), ('VOGEL-A', 275), ('MEE', 273), ('ZELFDE-B', 272), ('GEWOON-A', 264), ('PT-Bhand:1', 262), ('CI-A', 261), ('PERSOON-A', 261), ('VERTELLEN', 260), ('AMSTERDAM', 259), ('HAND-OP-BORST', 257), ('VEEL-A', 257), ('ANDERS-B', 248), ('PT:wijs', 248), ('VRIEND-A', 247), ('BIJVOORBEELD-B', 247), ('IN-A', 245), ('TWEEEN-A', 244), ('LOPEND-VOORTBEWEGEN-A', 244), ('ALLES-A', 244), ('VERSCHIL-A', 244), ('MENS', 242), ('WILLEN-A', 241), ('STEL-A', 240), ('PT:up', 237), ('VOLGEN', 235), ('VERSCHILLENDE-A', 234), ('OPNEMEN-A', 228), ('TAAL-A', 227), ('NEDERLAND-A', 224), ('ANDERS-A', 220), ('LEREN-A', 219), ('AUTO', 218), ('NETJES-B', 218), ('KLOPT-A', 218), ('KLEIN-VERTICAAL-F', 215), ('HELPEN-A', 215), ('PT:down', 213), ('BIJ-B', 213), ('DAN-B', 212), ('LOPEN-D', 211), ('PRIMA', 209), ('ALTIJD', 209), ('ALLEMAAL-A', 208), ('KIND.PL', 202), ('PRETTIG-A', 196), ('NIEUW-B', 195), ('TOLK', 194), ('MOVE+V', 193), ('ECHT-A', 192), ('BETEKENEN-A', 190), ('ERG-A', 190), ('WEG-C', 189), ('VEEL-B', 189), ('WAAROM', 189), ('MAAKT-NIET-UIT', 189), ('OUDER-B', 187), ('NEE-B', 187), ('WERELD-A', 187), ('KLEIN-HORIZONTAAL-A', 186), ('WOORD-A', 185), ('VRAGEN-A', 184), ('AFWEGEN', 182), ('AANHALINGSTEKENS', 182), ('TIJD-A', 181), ('OK', 181), ('PT:mid', 180), ('SOMS-A', 177), ('DEUR-A', 174), ('MOVE+B', 174), ('NIKS-A', 173), ('WEG-B', 171), ('KEER', 169), ('HUIS-A', 168), ('VINDEN-A', 168), ('ONTMOETEN-A', 167), ('BIJ-A', 166), ('OUD-A', 161), ('OVERNEMEN', 161), ('LESGEVEN', 160), ('FIETSEN', 159), ('RELATIE-A', 157), ('WAAR-A', 156), ('1.ORD', 156), ('PB', 155), ('ROEPEN-A', 154), ('TERUG', 154), ('VEEL-LATER', 153), ('KIND-VAN', 153), ('KIEZEN', 153), ('BESLUITEN-A', 151), ('BEGINNEN-A', 149), ('MAN-A', 149), ('VERANDEREN-A', 149), ('MOVE+4', 147), ('EVEN-DENKEN-C', 146), ('AANPASSEN', 145), ('MAKKELIJK', 141), ('TOCH-B', 141), ('TELHAND+2-A', 141), ('ORAAL-A', 141), ('WIJ', 141), ('3-B', 140), ('4-A', 140), ('GEVOLG', 140), ('WEG-A', 138), ('POES-C', 138), ('BINNEN-A', 136), ('ENZOVOORTS-A', 136), ('GRAAG-A', 136), ('WEL', 135), ('BE+B', 135), ('PROBLEEM-A', 134), ('OVER-A', 134), ('GEBRUIKEN-C', 134), ('GROEP-C', 133), ('GEBRUIKEN-A', 132), ('SCHILDPAD-A', 132), ('AAN-JOU', 131), ('REGELS-A', 130), ('VOELEN-B', 130), ('WEGGAAN-A', 128), ('POES-A', 128), ('AAN-DEZE-KANT-A', 127), ('VERANDEREN-B', 127), ('AANDACHT-A', 126), ('DISCUSSIEREN', 125), ('RUSTIG', 124), ('LOPEN-E', 123), ('EVEN-WACHTEN', 121), ('SCHRIJVEN-D', 120), ('BLIND-A', 120), ('VERHAAL', 119), ('SCHRIJVEN-B', 119), ('LOGOPEDIE-A', 117), ('GEBOUW-C', 117), ('NIEUW-A', 116), ('NAAM-A', 116), ('EERLIJK-B', 115), ('[NAAM]', 114), ('TEGEN-A', 114), ('LEVEN-B', 113), ('BIER-B', 113), ('AAP', 113), ('5', 112), ('SPORT-A', 112), ('BLIJKEN', 112), ('COMPUTER-A', 112), ('DUIDELIJK-A', 112), ('KOMEN-B', 111), ('GELD', 111), ('GEBEUREN-A', 111), ('GROOT-HORIZONTAAL-C', 111), ('GOED-B', 111), ('KAPOT', 110), ('WAT-B', 110), ('KENNEN', 109), ('HOP', 109), ('ACCEPTEREN-A', 109), ('TYPEN', 109), ('GEHANDICAPT-B', 109), ('TELHAND+1-B', 109), ('HOE-A', 109), ('PANIEK-A', 108), ('VERDWIJNEN-C', 108), ('KUNNEN-NIET-A', 107), ('JONG-A', 106), ('ZITTEN-A', 105), ('PROBEREN-A', 104), ('ST-MICHIELSGESTEL', 104), ('APART-A', 104), ('DOOF-D', 104), ('SCHOOL-B', 103), ('BRUS-A', 102), ('HOND-A', 102), ('NADENKEN-A', 102), ('TELHAND+2-B', 102), ('VERSCHILLENDE-B', 102), ('GEHOORAPPARAAT-A', 101), ('VOOR-A', 101), ('VINGERSPELLEN', 101), ('STEM-A', 100), ('OEFENEN-A', 100), ('SNEL-A', 100), ('KLEIN-A', 100), ('LOGISCH', 100), ('VROUW-A', 99), ('TELHAND', 99), ('GEBAREN-B', 99), ('ALS-C', 99), ('WEG-D', 97), ('RAAM-A', 97), ('GRAPPIG-A', 96), ('AUTORIJDEN', 96), ('WETEN-B', 95), ('MOGEN-A', 95), ('TE-MAKEN-MET', 95), ('OUDERS-A', 95), ('DRINKEN-A', 94), ('VANDAAR-A', 94), ('PT:duim', 93), ('ROLSTOEL-C', 93), ('GOOIEN-A', 92), ('BOT', 91), ('RICHTING', 91), ('ALLES-B', 91), ('OM', 91), ('NIKS-B', 91), ('OUD-B', 90), ('HANDEN-WRIJVEN-B', 90), ('TEST', 90), ('HOREN-B', 90), ('ZOEKEN-A', 89), ('KOMEN-A', 89), ('LICHAAM-B', 89), ('KLOPT-B', 89), ('OP-B', 88), ('BE+1', 88), ('TOEKOMST-A', 87), ('ZIEK-B', 87), ('INFORMEREN:1', 86), ('NAAM-D', 86), ('NU-B', 86), ('CULTUUR', 85), ('VOOR-D', 85), ('ENZOVOORTS-B', 85), ('LOPEN-C', 84), ('BE+4', 84), ('GEVOEL-A', 84), ('KLEREN-B', 84), ('VAN-B', 84), ('LUISTEREN', 83), ('ZWANGER-A', 83), ('SENSEO-A', 83), ('OOR', 83), ('LANG-A', 82), ('TELHAND+1-A', 82), ('ZWAAR-A', 82), ('REGIO-A', 81), ('THUIS-A', 81), ('IDEE', 81), ('NOG-NIET', 81), ('ONDERSTEUNEN', 81), ('INTERNAAT-B', 81), ('RENNEN-A', 81), ('LIJN-A', 81), ('VOOR-C', 80), ('GROOT-HORIZONTAAL-D', 79), ('VAAK', 79), ('BOEK', 79), ('SLAPEN-A', 78), ('HALF-A', 78), ('ONTWIKKELEN-B', 78), ('PAS-A', 78), ('MENS.PL', 78), ('REGIO-B', 77), ('PASSEN', 77), ('OPEN-A', 77), ('VERGETEN-A', 76), ('EIGEN-B', 76), ('INTERNATIONAAL', 76), ('TWEETALIG', 76), ('ALLEEN-B', 75), ('MEE-EENS-A', 75), ('VERTICALE-CYLINDER-A', 75), ('JAAR-A', 74), ('SENSEO-B', 74), ('KLIMMEN-A', 73), ('DANSEN-B', 72), ('NOG-A', 72), ('VARIATIE', 72), ('ETEN-A', 71), ('STUDEREN', 71), ('VERSTAND', 71), ('SCHRIKKEN-B', 71), ('BIJVOORBEELD-A', 71), ('CENTRUM', 71), ('KLEIN-HORIZONTAAL-B', 71), ('ONDERZOEKEN', 70), ('SCHRIKKEN-A', 70), ('HANDEN-WRIJVEN-A', 70), ('VADER-A', 70), ('GELIJK-HEBBEN', 70), ('VOGELKOOI-A', 70), ('FEEST-A', 70), ('INTERNET-A', 70), ('APART-C', 69), ('WACHTEN-A', 69), ('ZORGEN-A', 69), ('OPSTUREN-B', 69), ('SCHAAP-A', 69), ('6-B', 68), ('KRIJGEN-B', 68), ('LEKKER-A', 68), ('PT:ring', 68), ('VASTHOUDEN-H', 68), ('HALLO', 67), ('BEETJE', 67), ('ZIEN-B', 67), ('VERHUIZEN-A', 66), ('OMGAAN-A', 66), ('PERIODE-A', 66), ('EIGEN-A', 65), ('FAMILIE-A', 65), ('BE+C', 64), ('PERFECT-A', 64), ('GEVEN-B', 64), ('BOOS-A', 64), ('PRATEN-C', 63), ('WIE-A', 63), ('PASSIEF', 63), ('8-B', 63), ('VERSPREIDEN-B', 63), ('VERSPREIDEN-A', 63), ('DEEL-A', 62), ('PT-Bhand', 62), ('DING.PL', 62), ('ROEPEN-B', 62), ('ERG-B', 62), ('MOVE+geld', 62), ('LICHAAM-A', 62), ('AMERIKA', 62), ('VAARDIG', 62), ('TOT-NU-TOE', 62), ('VECHTEN', 61), ('LACHEN-A', 61), ('MERKEN-A', 61), ('KLEIN-VERTICAAL-A', 61), ('BE+5', 60), ('HOUDEN-VAN', 60), ('ARMEN-OVER-ELKAAR', 60), ('ALLEMAAL-B', 60), ('BABY', 60), ('HAAS-A', 60), ('OUDERS-B', 60), ('ROTTERDAM-A', 60), ('VINDEN-B', 59), ('WATER-A', 59), ('ZWEMMEN-A', 59), ('WOORD-B', 59), ('BELANGRIJK-B', 58), ('HUIS-B', 58), ('ZO-B', 58), ('GROOT-VERTICAAL-C', 58), ('10-B', 57), ('DOORGAAN', 57), ('ZELFSTANDIG-A', 57), ('MOVE+S', 57), ('SCHOOL-C', 56), ('MUZIEK', 56), ('#H', 56), ('HOE-C', 55), ('ABORTUS-A', 55), ('HEBBEN-C', 55), ('HALEN-A', 54), ('TELHAND+3-A', 54), ('OUDER-A', 54), ('FEEST-B', 54), ('KLOPT-C', 54), ('VASTHOUDEN-I', 54), ('VOS-A', 54), ('LANGZAAM', 53), ('OPPERVLAK', 53), ('BETALEN', 53), ('ENZOVOORTS-D', 53), ('VERANDEREN-E', 53), ('KOFFER', 53), ('VER', 53), ('ALLEEN-A', 53), ('HOEFT-NIET-A', 53), ('STROOMSCHOK-KRIJGEN', 53), ('NAAST', 52), ('KLAP', 52), ('GEVEN-C', 52), ('SCHOMMELEN', 52), ('LOPEN-H', 52), ('100-A', 51), ('TREIN', 51), ('ONDERDRUKKEN-D', 51), ('IETS-A', 51), ('NIVEAU', 51), ('TELHAND+3-B', 51), ('ROEPEN:1', 50), ('BRUS-C', 50), ('DAG', 50), ('2.ORD', 50), ('VAST', 50), ('GEHANDICAPT-C', 50), ('TRAM-A', 50), ('TOT-B', 49), ('AFHANKELIJK-A', 49), ('PRATEN-E', 49), ('SHAPE+B', 49), ('IEDEREEN-A', 49), ('KUNNEN-NIET-B', 49), ('HEEN-EN-WEER', 48), ('GUYOT', 48), ('GESCHIEDENIS-A', 48), ('MIDDEN', 48), ('WEEKEND-A', 48), ('BRUS-B', 47), ('OPSTUREN-A', 47), ('OP-A', 47), ('LEZEN', 47), ('VROEGER-B', 47), ('GENOEG', 46), ('GEVEN-A', 46), ('DOOR-ELKAAR-B', 46), ('AF-A', 46), ('DOOD-A', 46), ('ENE-KANT-ANDERE-KANT-A', 46), ('PT-arc', 46), ('VOETBALLEN-A', 46), ('NA-B', 45), ('ONDER', 45), ('VLUCHTEN', 45), ('STAAN-D', 45), ('VORM-A', 45), ('VERWACHTEN', 45), ('BELANGRIJK-A', 45), ('LAND-A', 45), ('DOOR-B', 44), ('MEER-C', 44), ('BEDOELEN-IK', 44), ('WONEN-A', 44), ('JONGEN-A', 44), ('HOOG', 44), ('BEZIG', 44), ('MOVE+C', 44), ('UITLEGGEN', 44), ('DOOS-A', 44), ('TEGEN-AAN-LOPEN-A', 44), ('MANIER-A', 44), ('self-touch', 44), ('PAARD-A', 44), ('FAMILIE-C', 43), ('KLEIN-HORIZONTAAL-C', 43), ('ZIN', 43), ('HORIZONTALE-RECHTHOEK', 43), ('ROLSTOEL-A', 43), ('WEGGAAN-B', 43), ('MEE-EENS-B', 43), ('ONTMOETEN-C', 43), ('#A', 42), ('STAAN-A', 42), ('DOKTER-A', 42), ('BIER-A', 42), ('MOVE+C_spreid', 42), ('BOS-A', 42), ('KLIMMEN-C', 42), ('OPRICHTEN', 42), ('AFHANKELIJK-B', 42), ('LIJN-C', 41), ('ZELFDE-C', 41), ('AANBIEDEN-C', 41), ('LAATSTE-B', 41), ('BEWIJS', 41), ('BOUWEN', 41), ('7-B', 40), ('EINDELIJK-A', 40), ('STIL-A', 40), ('BIJ-D', 40), ('GELOVEN-A', 40), ('WEG-E', 40), ('SHAPE+C', 40), ('FILMEN-A', 40), ('ONTSTAAN-A', 40), ('PAARD-B', 40), ('JE-BEST-DOEN', 40), ('STANDAARDISATIE-A', 40), ('PAUZE-A', 40), ('TWEEEN-C', 39), ('RENNEN-B', 39), ('PAS-B', 39), ('VERWARD-A', 39), ('ROLLEN', 39), ('ALS-A', 39), ('DORP', 39), ('ENZOVOORTS-C', 39), ('GEBARENTAAL', 39), ('FOUT-A', 39), ('VOOR-B', 39), ('WANDELEN', 38), ('KOFFIE-A', 38), ('HOEVEEL', 38), ('VERZOEKEN', 38), ('#T', 38), ('EMAIL-A', 38), ('AVOND-A', 38), ('IS-A', 38), ('BASIS', 38), ('IDENTITEIT', 38), ('JAS-A', 38), ('DNA', 38), ('20-A', 37), ('TIJD-C', 37), ('DOM-A', 37), ('VERDIENEN', 37), ('GISTEREN', 37), ('DRUK-A', 37), ('SLAAN-A', 37), ('GA-MAAR', 37), ('STEL-B', 37), ('SLAAN-C', 37), ('HAND-UP', 37), ('MAKEN', 37), ('ELEKTRICITEIT-A', 37), ('WERKEN-B', 37), ('VLEES-A', 36), ('MIS-A', 36), ('FILM', 36), ('VLAKBIJ-A', 36), ('ZATERDAG', 36), ('WAKKER', 36), ('UITWISSELEN-C', 36), ('BEDENKEN', 36), ('TOEVALLIG-A', 36), ('IJSBEREN', 36), ('AFHANKELIJK-D', 36), ('TOT-C', 36), ('NAAM-C', 35), ('GROMMEN', 35), ('VOETBALLEN-B', 35), ('#I', 35), ('BEDANKEN-A', 35), ('UITWISSELEN-A', 35), ('OUD-D', 35), ('VAN-TOT-A', 35), ('GEZOND-A', 35), ('BRUG-A', 34), ('OVERLIJDEN', 34), ('WILLEN-NIET', 34), ('INTEGREREN', 34), ('PERSOONLIJK', 34), ('REGELEN', 34), ('LUI', 34), ('BEDRIJF', 34), ('INTERNET-C', 34), ('SPELEN-A', 33), ('WILLEN-B', 33), ('TELEFOON-A', 33), ('NOG-B', 33), ('6-A', 33), ('HUILEN-A', 33), ('OMGEVING-B', 33), ('TEVREDEN-A', 33), ('NAAM-B', 33), ('9-B', 33), ('HAND', 33), ('WEGGOOIEN-A', 33), ('STABOL', 33), ('SLECHTHOREND-A', 33), ('VOORDEEL-A', 33), ('BRENGEN', 33), ('VERBAASD-B', 33), ('0-B', 32), ('SHAPE+5', 32), ('GRAAG-B', 32), ('SORRY-D', 32), ('MATERIAAL', 32), ('ZENUWACHTIG-A', 32), ('AFSPRAAK-A', 32), ('BUS-A', 32), ('INTERNET-B', 32), ('HOPEN-B', 31), ('BAL-A', 31), ('10-A', 31), ('ONTHOUDEN', 31), ('CLUB-A', 31), ('ROK', 31), ('NIEUWSGIERIG', 31), ('EDE', 31), ('ZWAK', 31), ('#C', 31), ('LASTIG-A', 31), ('IMPLANTEREN', 31), ('AFWIJKEN', 31), ('NADENKEN-B', 31), ('MOTOR', 31), ('VERTELLEN:1', 31), ('WIE-C', 31), ('WEDSTRIJD', 31), ('VOORSTELLEN-A', 30), ('ORGANISEREN', 30), ('BRUS-D', 30), ('BROEK', 30), ('JAMMER-B', 30), ('WETEN-A-IK', 30), ('VREEMD-B', 30), ('CAFE-A', 30), ('BEGELEIDEN-A', 30), ('DOOR-ELKAAR-A', 30), ('ONTSPANNEN-C', 30), ('SOCIAAL-A', 30), ('MOGEN-B', 30), ('EVEN-DENKEN-E', 30), ('DOOR-ELKAAR-C', 30), ('HARD-A', 30), ('AFSTAND-A', 30), ('BLIJ-B', 29), ('SLECHT-A', 29), ('MOE-A', 29), ('SLAAN-B', 29), ('LIEF-B', 29), ('GAUW', 29), ('INZETTEN', 29), ('KRANT-A', 29), ('AT+C', 29), ('TECHNIEK', 29), ('TOUW-A', 29), ('VISIE', 29), ('BEWUST', 29), ('GROOTOUDER-C', 29), ('EIND-SCENE', 29), ('MET-VLIEGTUIG-VLIEGEN-B', 28), ('OPEN-C', 28), ('PLOTSELING-A', 28), ('KLOPT-D', 28), ('LOPEN-B', 28), ('LAATSTE-A', 28), ('PRATEN-D', 28), ('RAAR', 28), ('STOPPEN', 28), ('PLAT-B', 28), ('WEEK', 28), ('BUITEN-A', 28), ('INTERESSANT', 28), ('OPVALLEN-B', 28), ('TE-LAAT-A', 28), ('IDENTITEITSCRISIS', 28), ('PANIEK-C', 28), ('HAASTIG-A', 28), ('RADELOOS', 28), ('NMG', 28), ('BOOM-B', 28), ('HEBBEN-B', 28), ('WEDDEN', 28), ('DRAAIORGEL', 28), ('GEZICHT-A', 27), ('TIJD-B', 27), ('HALT', 27), ('TUSSEN-A', 27), ('KOMEN-C', 27), ('BUITENLAND', 27), ('MAMA', 27), ('TEGEN-B', 27), ('IN-C', 27), ('OPVOEDEN', 27), ('WINNEN-A', 27), ('PT:pink', 27), ('OPLEIDING', 27), ('SNUFFELEN', 27), ('MEER-D', 27), ('ENGELAND-A', 27), ('DENKEN', 27), ('AANPAKKEN', 27), ('SLEUTEL', 27), ('TEKENEN-B', 27), ('PERSOON-A.PL', 27), ('SCHOOL-D', 26), ('ROTTERDAM-B', 26), ('AANSLUITEN', 26), ('ORAAL-B', 26), ('OPNIEUW', 26), ('OVER-C', 26), ('EFFATHA', 26), ('#N', 26), ('#L', 26), ('TELHAND+4-A', 26), ('18-C', 26), ('MET-VLIEGTUIG-VLIEGEN-A', 26), ('HIJGEN', 26), ('VAKANTIE', 26), ('PARALLEL', 26), ('ZO-LATEN', 26), ('12-B', 26), ('SPELEN-C', 26), ('HAAS-B', 26), ('AUTOMATISCH-A', 26), ('#M', 25), ('VERDER-B', 25), ('UITSTAPPEN', 25), ('GROEIEN-A', 25), ('#O', 25), ('HANDEN-OP-ELKAAR-A', 25), ('BELGIE-B', 25), ('HALF-B', 25), ('VERVELEN-A', 25), ('EVEN', 25), ('MOVE+O', 25), ('TELHAND+5', 25), ('LIJKEN-OP', 25), ('GEEL-C', 25), ('FRUSTRATIE-A', 25), ('ACCEPTEREN-B', 25), ('GEWOON-B', 25), ('TIMMEREN', 25), ('BE+C_spreid', 25), ('PARAPLU', 25), ('OPTILLEN-D', 25), ('OPZIJ', 25), ('OFFICIEEL', 25), ('WATER-B', 25), ('DINSDAG-A', 25), ('OPEN-B', 25), ('ROOD', 24), ('WELKOM', 24), ('OPERATIE', 24), ('AT+C_spreid', 24), ('STOREN', 24), ('KLAAR-B', 24), ('APART-B', 24), ('BESTUUR', 24), ('BESTEMPELEN-B', 24), ('LEVEN-A', 24), ('EVEN-DENKEN-B', 24), ('ACHTER-B', 24), ('GESTICULEREN', 24), ('IN-E', 24), ('BE+V', 24), ('PIVOT+1', 24), ('VIA', 24), ('REGENPIJP-D', 24), ('SNEL-E', 24), ('OOK-C', 24), ('DRAGEN-C', 24), ('MAAT-HORIZONTAAL-D', 23), ('GELUID', 23), ('WAT-C', 23), ('DUITSLAND-A', 23), ('COMBINATIE', 23), ('DURVEN', 23), ('BIJNA-A', 23), ('APPLAUS-A', 23), ('LIEF-A', 23), ('#S', 23), ('BIJZONDER', 23), ('OOG', 23), ('OPLOSSEN-A', 23), ('SHAPE+Baby_C', 23), ('VOGELKOOI-D', 23), ('TRAM-B', 23), ('FRIESLAND-A', 23), ('MSN-B', 23), ('JAAR-D', 23), ('WEST', 23), ('HAAS-C', 23), ('GRAZEN', 23), ('REKENEN-A', 23), ('GEK-A', 22), ('GEBOUW-A', 22), ('BIJTEN', 22), ('PAKKEN-B', 22), ('SPANNEND', 22), ('OPKOMEN', 22), ('ANTWOORD-A', 22), ('SCHREEUWEN-A', 22), ('EMOTIE-B', 22), ('STOK-A', 22), ('ZENUWACHTIG-C', 22), ('ONDERDANIG', 22), ('COMPUTER-B', 22), ('#W', 22), ('JAMMER-A', 22), ('MAAT-HORIZONTAAL-C', 22), ('#V', 22), ('VOORBEREIDEN', 22), ('EMAIL-B', 22), ('HOND-B', 22), ('IETS-B', 22), ('VISUEEL-A', 22), ('SLINGEREN', 22), ('OPTILLEN-B', 22), ('STIMULEREN-A', 22), ('SHAPE+FLAT', 22), ('LEEUW-A', 22), ('WONEN-B', 21), ('OVERLEGGEN-A', 21), ('DONKER', 21), ('OPLETTEN-A', 21), ('TROUWEN-B', 21), ('GEHANDICAPT-E', 21), ('ZONDAG-A', 21), ('SOP', 21), ('BESTAAN-A', 21), ('#D', 21), ('11-B', 21), ('BLIJ-A', 21), ('ZIN-IN-A', 21), ('PANIEK-B', 21), ('BEHOUDEN', 21), ('LAWAAI', 21), ('BOWLINGBAL-B', 21), ('OPTILLEN-C', 21), ('AT+V', 21), ('POSITIEF', 21), ('REGEN-B', 21), ('DING', 21), ('CI-D', 21), ('#K', 20), ('PAPA-A', 20), ('HELE', 20), ('SLAGER-A', 20), ('ROLSTOEL-B', 20), ('LUKKEN', 20), ('SPIEGEL', 20), ('ACHTER-A', 20), ('60-A', 20), ('ZENUWACHTIG-D', 20), ('POLITIE-A', 20), ('VREEMD-D', 20), ('HARD-B', 20), ('WEBSITE', 20), ('COMMUNICATIE', 20), ('MIS-B', 20), ('OH', 20), ('RECHT-OP', 20), ('ZIELIG-A', 20), ('DUIZELIG', 20), ('KLEREN-A', 20), ('ERKENNEN-A', 20), ('STEM-B', 20), ('SPASTISCH-A', 20), ('PATAT', 20), ('AT+B', 20), ('LICHT-C', 20), ('BLIND-E', 20), ('UUR-LANG+1', 20), ('KRIJGEN-C', 20), ('TONEEL', 20), ('HOMO-A', 20), ('TEGEN-AAN-LOPEN-B', 20), ('ERGENS-A', 20), ('PSYCHOLOGIE-B', 20), ('PLEGEN', 20), ('SLECHT-B', 19), ('WINKELEN-A', 19), ('ZON-A', 19), ('8-A', 19), ('OPGELUCHT-B', 19), ('50-A', 19), ('JAAR-E', 19), ('DUUR', 19), ('MEISJE-A', 19), ('ECHT-C', 19), ('MOOI-B', 19), ('KOUD-A', 19), ('GEEL-A', 19), ('COMMUNICATIE-VERBROKEN', 19), ('BLIND-D', 19), ('AT+1', 19), ('RESPECTEREN', 19), ('SCHOONMAKEN', 19), ('MIMIEK-A', 19), ('NEE-D', 19), ('ZWAAR-B', 19), ('FOTO', 19), ('DRAGEN-A', 19), ('OP-C', 19), ('SHAPE+Baby_snavel_open', 19), ('ELKE-A', 19), ('GROEN', 19), ('VERMORZELEN', 19), ('BAL-B', 19), ('SYLVESTER-A', 19), ('GEBRUIKEN-D', 19), ('BIJ-C', 18), ('DOKTER-B', 18), ('BELLEN', 18), ('BIDDEN-A', 18), ('MAL', 18), ('BEWEGEN', 18), ('BESCHERMEN-A', 18), ('GEBOREN-B', 18), ('REAGEREN-A', 18), ('SCHEIDEN', 18), ('STEVIG', 18), ('LIGGEN', 18), ('HELPEN-B', 18), ('INKRIMPEN-A', 18), ('SMS', 18), ('15-B', 18), ('LAKEN', 18), ('STAAN-C', 18), ('SUBSIDIE-A', 18), ('RUZIE-A', 18), ('SKIEN', 18), ('POES-D', 18), ('HOP:1', 18), ('DRAGEN-E', 18), ('GROEP-B', 18), ('WINTER', 18), ('19-B', 18), ('FEEST-D', 18), ('DIPLOMA-B', 18), ('RECLAME-A', 18), ('VASTHOUDEN-G', 18), ('30-A', 17), ('EXTRA-A', 17), ('ZWAAR-C', 17), ('LUKKEN-NIET-A', 17), ('LESGEVEN:1', 17), ('KLOPT-E', 17), ('3.ORD-A', 17), ('REGERING-B', 17), ('DOEN-NIET', 17), ('STRAKS-A', 17), ('PAARD-C', 17), ('KRANT-B', 17), ('KAMP-A', 17), ('KOFFIE-B', 17), ('BE+S', 17), ('NATUUR-A', 17), ('ERKENNEN-B', 17), ('COLLEGA', 17), ('HANDELEN', 17), ('PAKKEN-C', 17), ('RUPS', 17), ('PIJN-B', 17), ('BEHANDELEN', 17), ('NUMMER-B', 17), ('SYNONIEM', 17), ('VOS-D', 17), ('KNIPPEN', 17), ('GEBAREN-E', 17), ('7-A', 16), ('LEKKER-B', 16), ('ENGELAND-B', 16), ('WEER', 16), ('OPGEVEN-A', 16), ('REIZEN-A', 16), ('PIJN-A', 16), ('AANKLEDEN-A', 16), ('BRIEF-A', 16), ('SPELEN-B', 16), ('MAANDAG-A', 16), ('BLIJ-C', 16), ('BOOM-A', 16), ('DEN-BOSCH', 16), ('RUIKEN', 16), ('AFHAKKEN', 16), ('OP-D', 16), ('HEUVEL', 16), ('ADEMEN-C', 16), ('BESTE-A', 16), ('GROOTOUDER-A', 16), ('BANAAN-B', 16), ('LOPEN-F', 16), ('CLUB-B', 16), ('STANDAARDISATIE-B', 16), ('ONGELUK-B', 16), ('GEZOND-B', 16), ('OMGEVING-A', 16), ('ELEKTRICITEIT-C', 16), ('PIVOT+B', 16), ('KOKEN-B', 16), ('GELIJK-NIVEAU', 16), ('BRAILLE', 16), ('ONDERWERP-C', 16), ('KWALITEIT', 16), ('ZOMAAR', 16), ('TWEETY', 16), ('40-A', 16), ('UITHANGBORD', 16), ('HOUT', 16), ('DRAGEN-D', 16), ('VENSTERBANK', 16), ('REGERING-D', 16), ('WEEKEND-B', 16), ('INTERNET-F', 16), ('ARCHITECT', 16), ('GOOGLE-A', 16), ('PERIODE-B', 15), ('ONGEVEER', 15), ('FOUT-B', 15), ('LICHT-A', 15), ('BEZOEKEN-A:1', 15), ('VERGETEN-B', 15), ('AVOND-B', 15), ('DIEP', 15), ('FAMILIE-B', 15), ('BUITEN-D', 15), ('GEVAARLIJK', 15), ('OOK-B', 15), ('HOEK-A', 15), ('OVERKANT', 15), ('ETHISCH', 15), ('PT-alt', 15), ('UITHOREN', 15), ('WIE-D', 15), ('INSTEKEN-C', 15), ('BOOT', 15), ('19-C', 14), ('STELEN', 14), ('NIEMAND-B', 14), ('SCHAMEN-A', 14), ('KAALHOOFDIG', 14), ('VERANDEREN-C', 14), ('PRACHTIG-A', 14), ('OVERGEVEN', 14), ('NAGELBIJTEN', 14), ('TEVREDEN-B', 14), ('CONTROLEREN', 14), ('VORIGE', 14), ('WISSELEN', 14), ('OPGELUCHT-A', 14), ('KAART-A', 14), ('BE+geld', 14), ('BEZOEKEN-A', 14), ('PT:bodypart', 14), ('BLOEM-B', 14), ('20-B', 14), ('NEE-A', 14), ('SORRY-A', 14), ('SLAPEN-B', 14), ('#F', 14), ('POLITIEK-A', 14), ('SAMEN-C', 14), ('VOORSTEL', 14), ('BESLUITEN-B', 14), ('KANS', 14), ('INVLOED', 14), ('GEDRAG', 14), ('FLEXIBEL', 14), ('PROCENT-B', 14), ('PER', 14), ('DIENST', 14), ('SUCCES-A', 14), ('1000-A', 14), ('JARIG-A', 14), ('APPEL', 14), ('VERZAMELEN-B', 14), ('OVER-B', 14), ('FOEI', 14), ('BUS-C', 14), ('SPONTAAN', 14), ('EEN-OP-EEN', 14), ('BETUTTELEN', 14), ('VERANTWOORDELIJK', 14), ('SCHOEN-B', 14), ('PRINCIPE', 14), ('OPTILLEN-F', 14), ('MOVE+Snavel', 14), ('MINDER-B', 14), ('PAPIER', 14), ('HONGER-B', 14), ('OPSTAAN', 14), ('APPARTEMENT-A', 14), ('BIJEENDRIJVEN', 14), ('SPRINGEN', 14), ('UTRECHT-B', 14), ('BALEN-A', 13), ('#B', 13), ('MINUUT', 13), ('SCHRIJVEN-C', 13), ('TOESPRAAK', 13), ('3-A', 13), ('UIT-A', 13), ('SCHRIJVEN-A', 13), ('HOND-C', 13), ('AANBELLEN', 13), ('CURSUS', 13), ('SLURF', 13), ('SCHEPJE-ERBIJ', 13), ('JA-B', 13), ('TERUGTREKKEN', 13), ('SAAI-A', 13), ('IN-B', 13), ('AFVRAGEN', 13), ('SHAPE+C_spreid', 13), ('WATER-C', 13), ('LACHEN-F', 13), ('AANKLIKKEN', 13), ('SCHOOL-F', 13), ('GEZICHT-B', 13), ('GRAP-A', 13), ('GEEN-IDEE', 13), ('TWEEEN-B', 13), ('WACHTEN-B', 13), ('BANAAN-A', 13), ('AFSPRAAK-E', 13), ('INDIVIDUEEL', 13), ('18-B', 13), ('HAND-IN-LUCHT', 13), ('LEERLING-B', 13), ('TROTS-A', 13), ('TWEEEN-D', 13), ('DIRECTEUR-A', 12), ('LACHEN-B', 12), ('STIL-B', 12), ('HOOFD-B', 12), ('MERK', 12), ('BED-A', 12), ('KIND-B', 12), ('HOOFDPIJN', 12), ('DRINKEN-B', 12), ('VOETBALLEN-C', 12), ('STOEL', 12), ('AANKLEDEN-B', 12), ('SOMMIGEN', 12), ('MODERN-A', 12), ('IN-D', 12), ('HOTEL-A', 12), ('UITKLEDEN-A', 12), ('#E', 12), ('PROCENT-A', 12), ('KAARTEN-A', 12), ('MAROKKO-A', 12), ('SENCITY', 12), ('BUS-B', 12), ('GEUR', 12), ('NACHT', 12), ('AUTISME', 12), ('SAMEN-D', 12), ('13-B', 12), ('OVERLEGGEN-C', 12), ('LIJST-C', 12), ('STAGE', 12), ('JAAR-C', 12), ('BOWLEN', 12), ('DUBBEL-B', 12), ('ONGELUK-A', 12), ('LIJDEN', 12), ('INGEWIKKELD', 12), ('TEMPO', 12), ('VIOOL', 12), ('OPROER', 12), ('HOED-C', 12), ('VERDWIJNEN-A', 12), ('0-A', 12), ('MENING-B', 12), ('GESCHIEDENIS-B', 12), ('UITWISSELEN-B', 12), ('JARIG-B', 12), ('BRUG-B', 12), ('GRAS-A', 12), ('ZETTEN-LEGGEN-F', 12), ('DIER', 12), ('BEZOEK-B', 12), ('SNEL-C', 12), ('SPORT-B', 12), ('FEEST-C', 12), ('BLATEN', 12), ('TACKLE', 12), ('BANAAN-C', 12), ('ZETTEN-LEGGEN-K', 12), ('DIK', 12), ('PARIJS', 12), ('HOEK-B', 12), ('STIJL-B', 12), ('DONDERDAG-A', 12), ('DOLLAR-B', 12), ('TINNITUS', 12), ('SCHOOL-E', 12), ('NAAIEN-C', 12), ('VOORBURG', 12), ('SENSEO-F', 12), ('GEHANDICAPT-G', 12), ('DOEL', 11), ('KOPEN-B', 11), ('HAAT', 11), ('STEM-D', 11), ('EERLIJK-C', 11), ('ERBIJ-A', 11), ('FRANKRIJK-A', 11), ('REAGEREN:1', 11), ('MOND', 11), ('HANDIG', 11), ('22-A', 11), ('TEVEEL', 11), ('JONG-B', 11), ('OPNEMEN-C', 11), ('WAT-D', 11), ('OEFENEN-B', 11), ('BEGINNEN-B', 11), ('50-C', 11), ('REKENING-HOUDEN-MET', 11), ('VERVELEN-C', 11), ('ALSOF-C', 11), ('LACHEN-D', 11), ('SPUITEN', 11), ('BEZORGD', 11), ('ZWETEN-B', 11), ('SHAPE+1', 11), ('DRAGEN-G', 11), ('LEDEMATEN-BEWEGEN', 11), ('LAAT-A', 11), ('HOTEL-B', 11), ('KNIE', 11), ('BLAUW', 11), ('FOCUS', 11), ('GLAD', 11), ('ALVAST', 11), ('DAK', 11), ('14-B', 11), ('ONTSPANNEN-B', 11), ('DOOF-E', 11), ('VRIJDAG-A', 11), ('ENE-KANT-ANDERE-KANT-B', 11), ('WASSEN-A', 11), ('STREEP', 11), ('ALSOF-B', 11), ('TEKENEN-A', 11), ('MAAT-VERTICAAL-C', 11), ('HOOGEVEEN', 11), ('100-B', 11), ('KUNNEN-B', 11), ('ZELF-B', 11), ('SENSEO-G', 11), ('MAAND-A', 10), ('KOMEN-D', 10), ('HONGER-A', 10), ('VOORKOMEN', 10), ('ONTMOETEN-B', 10), ('ADEMEN-A', 10), ('SCHAMEN-B', 10), ('BOODSCHAPPEN-B', 10), ('BEEN-B', 10), ('UUR+7-B', 10), ('VERBAASD-A', 10), ('PERSOON-B', 10), ('AFHANKELIJK-C', 10), ('TELEVISIE-B', 10), ('VERZAMELEN-A', 10), ('VREEMD-A', 10), ('MISSELIJK', 10), ('DINSDAG-B', 10), ('APRIL', 10), ('FEBRUARI-B', 10), ('STAAN-B', 10), ('LEEGHOOFD-A', 10), ('FILE', 10), ('LEVEN-C', 10), ('ROUTE-B', 10), ('JONG-C', 10), ('VAN-C', 10), ('ZWANGER-B', 10), ('MINDER-A', 10), ('HOPEN-A', 10), ('TELHAND+4-B', 10), ('GEEST', 10), ('GEK-B', 10), ('REGELS-C', 10), ('VRAAGTEKEN', 10), ('INSTELLING', 10), ('SAMEN-B', 10), ('TEGENVALLEN', 10), ('SLIM-B', 10), ('SLOT', 10), ('MAAND-B', 10), ('BALIE-B', 10), ('SPASTISCH-B', 10), ('APPLAUS-B', 10), ('ZETTEN-LEGGEN-A', 10), ('PAF-STAAN', 10), ('TURKIJE-A', 10), ('GOOIEN-D', 10), ('LOPEN-K', 10), ('ERGENS-B', 10), ('DOOD-B', 10), ('KOPEN-A', 10), ('ZWART-B', 10), ('OORLOG-A', 10), ('AFTASTEN', 10), ('PROBEREN-B', 10), ('CI-B', 10), ('AANVALLEN', 10), ('GROEP-D', 10), ('NETJES-A', 10), ('KOPTELEFOON', 10), ('ZOMER-B', 10), ('BALIE-A', 10), ('VERDOMME-A', 10), ('BESLUITEN-C', 10), ('WOENSDAG-A', 10), ('UITEN', 10), ('RESULTAAT', 10), ('GEBEUREN-B', 10), ('FIETSSLOT', 10), ('METSELEN-A', 10), ('MEEMAKEN-A', 10), ('POKER-B', 10), ('FEBRUARI-A', 10), ('15-A', 10), ('LEEUW-B', 10), ('BETEKENEN-B', 10), ('BRIEF-B', 9), ('BANG-B', 9), ('TAND', 9), ('VRIJ-C', 9), ('ZUINIG-A', 9), ('VERPLAATSEN-A', 9), ('DAN-C', 9), ('MOVE+Baby_C', 9), ('TOEVALLIG-B', 9), ('SPIJT-A', 9), ('VALLEN-A', 9), ('PUNT-A', 9), ('BESTEMPELEN-A', 9), ('GOOIEN-B', 9), ('GRAAG-C', 9), ('BAAS-A', 9), ('BEL', 9), ('STOUT-A', 9), ('70-A', 9), ('SORRY-B', 9), ('THEE', 9), ('MOE-B', 9), ('PLAATS', 9), ('LACHEN-C', 9), ('TELLEN', 9), ('DUBBEL-A', 9), ('ONDERWERP-A', 9), ('BUITEN-B', 9), ('EVEN-DENKEN-A', 9), ('DOEN-B', 9), ('GOEDKOOP-B', 9), ('ECHT-WAAR', 9), ('ADEM-INHOUDEN-B', 9), ('TASTEN-A', 9), ('SUBSIDIE-B', 9), ('GENERATIE-A', 9), ('OVERPLAATSEN', 9), ('LASSEN', 9), ('JAMMER-C', 9), ('ZELFDE-D', 9), ('POST', 9), ('AT+4', 9), ('UITWISSELEN-D', 9), ('MOVE+B_krom', 9), ('WALGELIJK-A', 9), ('UNIVERSITEIT-A', 9), ('VROUW-B', 9), ('WARM-A', 9), ('SPIJT-B', 9), ('OMGAAN-B', 9), ('VERREKIJKER-A', 9), ('74', 9), ('FIXEN', 9), ('MORGEN-B', 9), ('SPANJE-A', 9), ('ZETTEN-LEGGEN-B', 9), ('SOMS-C', 9), ('12-C', 9), ('VLAG', 9), ('DRAAIEN', 9), ('80-A', 8), ('WACHTEN-E', 8), ('ERBIJ-B', 8), ('BEGELEIDEN-B', 8), ('MORGEN-A', 8), ('9-A', 8), ('UITKLEDEN-B', 8), ('AF-B', 8), ('VRIJ-B', 8), ('KNUFFELEN', 8), ('UITBREIDEN-B', 8), ('VOCHTIG', 8), ('DROOG', 8), ('HAREN', 8), ('MEDICIJN-A', 8), ('MOEDER-B', 8), ('DVD', 8), ('MAANDAG-B', 8), ('MAGER-A', 8), ('NIEUW-C', 8), ('ZWAKBEGAAFD-A', 8), ('GEHOORZAAM', 8), ('MACHO', 8), ('IN-SLAAP-VALLEN', 8), ('UUR-HALF', 8), ('#U', 8), ('IEDEREEN-B', 8), ('GEMEEN', 8), ('IEMAND', 8), ('REDEN', 8), ('PLAGEN-D', 8), ('PT-3hand:wijs-mid-ring', 8), ('HAWAII', 8), ('VERKEER', 8), ('ALLES-C', 8), ('ONDERWERP-B', 8), ('STAPEL-A', 8), ('SKATEBOARD', 8), ('WONEN-D', 8), ('BOODSCHAPPEN-A', 8), ('AF-C', 8), ('17-C', 8), ('TAFEL', 8), ('KIJKEN-A:1', 8), ('GRATIS-A', 8), ('UUR-C', 8), ('TE-LAAT-B', 8), ('1000-B', 8), ('VRIENDELIJK', 8), ('PSYCHOLOGIE-A', 8), ('REGEN-A', 8), ('BUITEN-C', 8), ('COLLECTEREN', 8), ('BELANG', 8), ('KASSA', 8), ('GRAVEN', 8), ('VOGEL-B', 8), ('BED-B', 8), ('GEHOORAPPARAAT-B', 8), ('VLEKJES-IN-GEZICHT', 8), ('ROLSTOEL-D', 8), ('SCHREEUWEN-B', 8), ('BALEN-B', 8), ('REGENPIJP-B', 8), ('IJS-A', 8), ('HOED-AFNEMEN', 8), ('MOVE+T', 8), ('OPTILLEN-E', 8), ('DOOS-B', 8), ('GALLAUDET', 8), ('ZAND-A', 8), ('NIET-AAN-GEDACHT', 8), ('GRAMMATICA', 8), ('ARM-A', 8), ('BESTE-B', 8), ('AANVALLEN-ELKAAR', 8), ('GYMNASTIEK', 8), ('BAKKEN-A', 8), ('OPVALLEN-A', 8), ('PRAKTIJK', 8), ('VOLLEYBAL', 8), ('OPTILLEN-J', 8), ('VERREKIJKER-B', 8), ('OMLAAG-TREKKEN', 8), ('FRIESLAND-B', 8), ('SCHILDPAD-C', 8), ('PAUZE-B', 8), ('17-B', 8), ('TELEFOON-C', 8), ('NAAIEN-A', 8), ('ONTSLAAN-A', 8), ('DAME', 8), ('KOPPIG', 8), ('4.ORD', 8), ('DORST', 8), ('GEHAKT', 8), ('OPTILLEN-I', 8), ('GOOIEN-E', 8), ('STANDAARD-A', 8), ('SURFEN-B', 8), ('TOT-NU-A', 8), ('NURNBERG', 8), ('UITWISSELEN-E', 8), ('WERELD-C', 8), ('KAMP-B', 8), ('AMSTEL-B', 8), ('HEINEKEN-B', 8), ('HAMKA', 8), ('OVERDREVEN-DEFTIG', 8), ('ZWALKEN', 8), ('SEKS', 8), ('SEKSUOLOOG', 8), ('ONTSPANNEN-E', 8), ('OPTILLEN-A', 8), ('VRIJ-D', 8), ('OPBOUWEN', 8), ('DILEMMA', 8), ('LOPEN-I', 8), ('ZITTEN-E', 8), ('PIVOT+5', 8), ('WISKUNDE-A', 8), ('CI-AFDOEN-B', 8), ('STANDAARD-B', 8), ('OVEREENKOMST', 8), ('OUDERWETS', 8), ('OPRUIMEN', 8), ('AUTOBAAN-A', 8), ('JAPAN', 8), ('POKER-A', 8), ('HOED-A', 8), ('KLEIN-HORIZONTAAL-D', 8), ('COACH-B', 8), ('VLAKBIJ-B', 8), ('ZONDE', 8), ('ORANJE-C', 8), ('GEHOORAPPARAAT-D', 8), ('MUIS-B', 8), ('PLANK-B', 8), ('WOLF-B', 8), ('ROEMENIE-B', 8), ('OORLOG-C', 8), ('SPORT-C', 8), ('VERREKIJKER-C', 8), ('BLACKBERRY-B', 8), ('GOOGLE-C', 8), ('GOOGLE-B', 8), ('VERHUIZEN-C', 8), ('SCHAAP-D', 8), ('OPTAKELEN', 8), ('SENSEO-H', 8), ('ANTWERPEN', 7), ('HAAR', 7), ('15-C', 7), ('SCHOUDERKLOPJE', 7), ('WC-A', 7), ('VERLIEZEN-A', 7), ('GELDERHORST', 7), ('70-B', 7), ('PRATEN-F', 7), ('DUIKEN-B', 7), ('STOUT-B', 7), ('DEKSEL', 7), ('STEMMEN', 7), ('CREATIEF', 7), ('SENSEO-E', 7), ('OPNEMEN-B', 7), ('#Z', 7), ('ERFELIJK-A', 7), ('TAAL-C', 7), ('UITSPREKEN', 7), ('SCHULD', 7), ('ONAFHANKELIJK', 7), ('NEUS', 7), ('OCHTEND-B', 7), ('OCHTEND-A', 7), ('1:HALEN', 7), ('WELKE-A', 7), ('BRUS-E', 7), ('TEGENSTRIJDIG', 7), ('BLIND-B', 7), ('BROEKZAK', 7), ('VERDELEN', 7), ('PRATEN-G', 7), ('SAMEN+2', 7), ('VERKRACHTEN', 7), ('EENZAAM', 7), ('GRAPPIG-C', 7), ('STIK-A', 7), ('HUIDSKLEUR-BRUIN', 7), ('WANNEER', 7), ('ZOMER-A', 7), ('NEE-E', 7), ('HUIDSKLEUR', 7), ('VROUW-C', 7), ('UITDELEN', 7), ('VASTHOUDEN-X', 7), ('OBER', 7), ('INDRUK', 7), ('GRAPPIG-D', 7), ('TANTE-A', 7), ('VOORZIENINGEN', 7), ('ECHT-B', 7), ('PROTEST-A', 7), ('CHRISTELIJK', 7), ('RUG', 7), ('VERSLAAFD-B', 7), ('ENTHOUSIAST', 7), ('NUMMER-D', 7), ('ASSISTENT', 7), ('BIJEENKOMEN', 7), ('ONZIN-A', 7), ('DRAGEN-B', 7), ('EISEN', 7), ('SHAPE+Snavel', 7), ('BE+O', 7), ('PLAT-A', 7), ('LIMBURG', 7), ('PLANK-A', 7), ('VLAG-WAPPEREN', 7), ('RUSLAND-A', 7), ('PUNT-B', 7), ('BRIL', 7), ('NAAIEN-B', 7), ('WENNEN-B', 7), ('KUNNEN-C', 7), ('OORLOG-B', 6), ('LICHT-B', 6), ('MOND-DICHT-A', 6), ('OORDOP', 6), ('ETEN-B', 6), ('TASTEN-B', 6), ('TELEVISIE-C', 6), ('AFSPRAAK-C', 6), ('SLECHT-C', 6), ('HEET', 6), ('HAND-OP-WANG', 6), ('HANDEN-OP-ELKAAR-B', 6), ('GEHOORAPPARAAT-C', 6), ('BROOD-B', 6), ('STINKEN-A', 6), ('ONZIN-B', 6), ('REGERING-A', 6), ('#J', 6), ('WC-B', 6), ('ZIEK-A', 6), ('VREEMD-C', 6), ('WASSEN-C', 6), ('WC-C', 6), ('HOOFD-C', 6), ('BUIK', 6), ('GORDIJN', 6), ('MODERN-B', 6), ('#P', 6), ('DEEL-B', 6), ('EINDE', 6), ('JAS-B', 6), ('BLOEM-A', 6), ('ZELFSTANDIG-B', 6), ('WIT', 6), ('MAN-B', 6), ('MEISJE-B', 6), ('VERTREKKEN', 6), ('SENSEO-D', 6), ('UITDAGEN-B', 6), ('NADEEL', 6), ('BEEN-C', 6), ('ARM-B', 6), ('BEER-D', 6), ('BOOS-C', 6), ('VEEL-C', 6), ('STEM-C', 6), ('KIND-C', 6), ('LOGOPEDIE-B', 6), ('REDDEN', 6), ('30-C', 6), ('THRILLER', 6), ('DISCO', 6), ('3.ORD-B', 6), ('VLEES-B', 6), ('KLEIN-VERTICAAL-C', 6), ('BEGRIJP-ER-NIKS-VAN', 6), ('REMMEN-A', 6), ('DUIVEL', 6), ('BESTELLEN-A', 6), ('WET', 6), ('DIPLOMA-A', 6), ('BROOD-A', 6), ('MANIER-B', 6), ('BEELD', 6), ('AANDACHT-B', 6), ('VLEES-C', 6), ('ZAKEN', 6), ('BOWLINGCENTRUM', 6), ('DRAGEN-I', 6), ('CONTACT-VERBREKEN', 6), ('SNEEUW-A', 6), ('VERDER-A', 6), ('500', 6), ('MAXIMUM-B', 6), ('WALGELIJK-C', 6), ('WIND', 6), ('AFSTAND-B', 6), ('KOMMA', 6), ('WINKELEN-B', 6), ('DINGEN-DOEN', 6), ('ONDERDRUKKEN-A', 6), ('LEZING', 6), ('ZWAKBEGAAFD-B', 6), ('GOD', 6), ('BOND', 6), ('ZWEDEN', 6), ('HIER', 6), ('EMPOWERMENT', 6), ('OPGEVEN-B', 6), ('WONEN-C', 6), ('KOUD-B', 6), ('REGERING-C', 6), ('SUKKEL-A', 6), ('SLAK', 6), ('DRAGEN-F', 6), ('FLAUW', 6), ('UIT-C', 6), ('PAARS', 6), ('SCHILDEREN-A', 6), ('VRIJEN', 6), ('NEDERLAND-B', 6), ('EVEN-DENKEN-F', 6), ('ZWART-A', 6), ('HOEFT-NIET-B', 6), ('BEWAREN-A', 6), ('ROND', 6), ('KERST-A', 6), ('POLITIE-B', 6), ('GEZICHT-C', 6), ('SNOR-A', 6), ('UITDAGEN-A', 6), ('BESTAAN-B', 6), ('VUILNISHOOP', 6), ('BOWLINGBAL-A', 6), ('ONZIN-C', 6), ('ROLNEMEN', 6), ('GRIJS-B', 6), ('ZETTEN-LEGGEN-J', 6), ('ZETTEN-LEGGEN-C', 6), ('GOOIEN-C', 6), ('OLYMPISCH', 6), ('EMOTIE-A', 6), ('HELM', 6), ('EMAIL-D', 6), ('VISICOM-A', 6), ('PORTUGAL-A', 6), ('JUFFROUW', 6), ('OPDRACHT', 6), ('TROMMEL', 6), ('ZALF', 6), ('AT+L', 6), ('VERZAMELEN-C', 6), ('TELEVISIE-D', 6), ('EXTRA-B', 6), ('METAAL', 6), ('VOGELKOOI-B', 6), ('REGENPIJP-G', 6), ('AAN-DEZE-KANT-C', 6), ('NA-A', 6), ('BE+B_krom', 6), ('VASTHOUDEN-E', 6), ('EXAMEN', 6), ('NIMO-HERSI-A', 6), ('KLIMMEN-D', 6), ('AANKLOPPEN-A', 6), ('HANDVORM', 6), ('EXTERN', 6), ('TUIN-B', 6), ('PLAGEN-F', 6), ('11-C', 6), ('EN-B', 6), ('STROOM', 6), ('RIJ', 6), ('BESTEMPELEN-C', 6), ('HAND-SCHUDDEN-C', 6), ('GROEP-ONDER-ELKAAR', 6), ('UITBREIDEN-A', 6), ('BRABANT-B', 6), ('NON-A', 6), ('SCHAAP-B', 6), ('TOT-D', 6), ('HAND.PL', 6), ('GEWOON-C', 6), ('ROTTERDAM-C', 6), ('ONTSPANNEN-G', 6), ('VERSCHIL-D', 6), ('AAN-DEZE-KANT-B', 6), ('DUIDELIJK-C', 6), ('BETEKENEN-C', 6), ('SCHOOL-G', 6), ('ERFELIJK-B', 6), ('CORPUS', 6), ('STERK', 6), ('SHAPE+S', 6), ('HOLLAND-C', 6), ('MOEDERTAAL', 6), ('19-D', 5), ('KLEIN-SAGITTAAL-C', 5), ('TAFELTENNIS', 5), ('PRATEN-H', 5), ('MOORD-A', 5), ('16-B', 5), ('LOPEN-G', 5), ('ZWETEN-A', 5), ('HOLLAND-B', 5), ('ADEM-INHOUDEN-A', 5), ('GEVANGENIS', 5), ('BEWAREN-C', 5), ('SCHOON', 5), ('POT', 5), ('VERSTOPPEN-B', 5), ('OCHTEND-D', 5), ('HAND-OP-MOND-A', 5), ('EI-A', 5), ('STRAF-A', 5), ('WOENSDAG-B', 5), ('PARKEREN-A', 5), ('WIE-B', 5), ('NEUKEN', 5), ('18-A', 5), ('STINKEN-B', 5), ('PROTEST-B', 5), ('KUNST', 5), ('ROL', 5), ('VERPLAATSEN-B', 5), ('DANSEN-A', 5), ('VRIJWILLIG', 5), ('SAMEN+3', 5), ('BAAS-C', 5), ('BANG-D', 5), ('BOOM-C', 5), ('ALS-B', 5), ('STRAF-B', 5), ('ONSCHULDIG', 5), ('AFKEUREN', 5), ('MAN-C', 5), ('RESERVEREN', 5), ('GEEN-ZIN-A', 5), ('MUTS', 5), ('OMVALLEN-A', 5), ('VRAGEN-A:1', 5), ('ONTSLAAN-B', 5), ('TELEVISIE-A', 5), ('HOOFD-A', 5), ('BLOED', 5), ('ZICH-BEDENKEN', 5), ('VERANDEREN-D', 5), ('SCHAKELEN-A', 5), ('SLIKKEN', 5), ('LIKKEN', 5), ('AFRIKA-A', 5), ('OUAGADOUGOU', 5), ('PROEVEN-A', 5), ('TOEVOEGEN', 5), ('NUMMER-A', 5), ('PIVOT+S', 5), ('SERIEUS', 5), ('MOVE+1_krom', 5), ('RITS', 5), ('LOGEREN-B', 5), ('PROBEREN-C', 5), ('PEUTER', 5), ('GARAGE-A', 5), ('WEBCAM', 5), ('STIMULEREN-B', 5), ('COMPUTERMUIS', 5), ('KLEUR-A', 5), ('SCHAAP-C', 5), ('VINGER-OPSTEKEN', 5), ('TIME-OUT', 5), ('LEKKER-C', 5), ('BOTER-A', 5), ('VERTROUWEN-A', 5), ('50-B', 5), ('RECHTSTREEKS', 5), ('WALGELIJK-B', 5), ('EMOTIE-C', 5), ('PAPA-B', 5), ('REGELMATIG-B', 5), ('TAXI-C', 5), ('FLES', 5), ('0-C', 5), ('FRUSTRATIE-B', 5), ('DOORBIJTEN', 5), ('ZETTEN-LEGGEN-E', 5), ('HEEL-ERG', 5), ('SLOVENIE', 5), ('RIJLES', 5), ('40-C', 5), ('PRAXIS', 5), ('OPSTUREN-C', 5), ('MOVE+Baby_snavel_open', 5), ('PROJECT', 5), ('KIJKEN-B', 5), ('DAAN-FRUMEAU', 5), ('PET-A', 5), ('POSTZEGEL', 5), ('BEWAKEN', 5), ('FILMEN-B', 5), ('13-A', 5), ('DICHT-B', 5), ('VOOR-E', 5), ('TOT-E', 5), ('VOS-B', 5), ('VOELEN-A', 5), ('OORLOG-D', 5), ('BEEN-D', 5), ('STEM-AF-A', 5), ('INSTEKEN-A', 5), ('VOELEN-C', 5), ('CAFE-B', 5), ('BLACKBERRY-A', 5), ('SENSEO-I', 5), ('MUIS-C', 5), ('VERSTOPPEN-A', 4), ('DOL-OP', 4), ('WIELEN', 4), ('INPAKKEN', 4), ('SUIKER', 4), ('BE+T', 4), ('BINNEN-B', 4), ('REANIMEREN', 4), ('KLAGEN-A', 4), ('TELEFOON-B', 4), ('KATHOLIEK-A', 4), ('WATERPOLO', 4), ('REGEN-C', 4), ('RESTAURANT', 4), ('77', 4), ('DUWEN', 4), ('JAM-A', 4), ('VERSLAAN', 4), ('TELEFOON-D', 4), ('BEZOEK-C', 4), ('CONGRES-A', 4), ('HAAS-D', 4), ('ONDERTITELING-B', 4), ('90-A', 4), ('OVERDRIJVEN', 4), ('LIEGEN', 4), ('BEZOEK-A', 4), ('AUTOMATISCH-B', 4), ('NEUSGATEN', 4), ('KRULLEN', 4), ('NOG-C', 4), ('DEEL-C', 4), ('MAXIMUM-A', 4), ('SMOES', 4), ('BLIND-C', 4), ('VERTRAGING', 4), ('KNAP', 4), ('SAMEN+4', 4), ('CATHARIJNE83', 4), ('SENSEO-C', 4), ('AT+5', 4), ('MOVE+Y', 4), ('NAAM-F', 4), ('HAGELSLAG-B', 4), ('16-C', 4), ('ZENUWACHTIG-B', 4), ('BELGIE-A', 4), ('IEDEREEN-C', 4), ('THUIS-B', 4), ('THERAPIE-A', 4), ('ZUINIG-B', 4), ('AUTOMATISCH-C', 4), ('ZORGEN-B', 4), ('SAAI-C', 4), ('60-B', 4), ('BH', 4), ('TEVREDEN-C', 4), ('STIJF', 4), ('ZIEZO', 4), ('BINNENKORT-A', 4), ('MEI-C', 4), ('JAMMER-D', 4), ('KANKER-A', 4), ('KERK', 4), ('GEHEIM-B', 4), ('AFHAKEN', 4), ('14-A', 4), ('ELKE-B', 4), ('2-B', 4), ('OORZAAK', 4), ('OPSCHIETEN-A', 4), ('INKRIMPEN-B', 4), ('SAMENWERKEN', 4), ('KLEREN-C', 4), ('VRIJGEZEL-A', 4), ('KAR', 4), ('TEKST-A', 4), ('UITSMIJTER', 4), ('INDRUKKEN-B', 4), ('LIJST-A', 4), ('OPTILLEN-H', 4), ('HORIZONTALE-CYLINDER-A', 4), ('MCDONALDS-C', 4), ('DE-DRAAD-KWIJT-ZIJN', 4), ('SNEEUW-B', 4), ('ZETTEN-LEGGEN-G', 4), ('ZETTEN-LEGGEN-I', 4), ('CRISIS', 4), ('VINGERSPELLEN-HAND', 4), ('MONGOOL-A', 4), ('DRACHTEN', 4), ('WETEN-C', 4), ('GRIEZELIG', 4), ('ZAK', 4), ('TIJD-VLIEGT', 4), ('EX-B', 4), ('RUGZAK-B', 4), ('WAARDEN', 4), ('VIDEO-A', 4), ('RAAD', 4), ('STRESS', 4), ('WEEK+1', 4), ('VERVOER', 4), ('WEG-F', 4), ('NUMMER-C', 4), ('ABORTUS-B', 4), ('AAN-DE-HAAK-SLAAN', 4), ('JEZUS-A', 4), ('VOORUITGANG', 4), ('OPSCHEPPEN-A', 4), ('SPIEREN', 4), ('HUILEN-B', 4), ('ERG-C', 4), ('UITZETTEN', 4), ('SPERMA', 4), ('BEGIN-SCENE', 4), ('TEVREDEN-D', 4), ('PENSIOEN-B', 4), ('LIJN-B', 4), ('GARAGE-C', 4), ('TOCH-C', 4), ('SLAGER-B', 4), ('VERBAASD-C', 4), ('AANRANDEN', 4), ('PLAGEN-B', 4), ('VOETSTAPPEN', 4), ('DIRECTEUR-D', 4), ('SEPTEMBER-A', 4), ('EI-B', 4), ('BULT-B', 4), ('PLEISTER-A', 4), ('TRAAG', 4), ('SOK-A', 4), ('RING', 4), ('MOPPEREN-A', 4), ('PIJN-C', 4), ('WAT-F', 4), ('WAAR-B', 4), ('EIGENWIJS', 4), ('EVEN-DENKEN-D', 4), ('CONCURRENTIE', 4), ('MODDER', 4), ('RUGBY', 4), ('VIES-B', 4), ('HALEN-B', 4), ('VAAG', 4), ('LIFT-A', 4), ('LIFT-C', 4), ('BAKKEVEEN', 4), ('WETEN-B-IK', 4), ('AFPAKKEN', 4), ('PLAGEN-C', 4), ('PLAGEN-E', 4), ('GEVEN-E', 4), ('GEHANDICAPT-D', 4), ('MISHANDELEN', 4), ('WOORDVOLGORDE', 4), ('BEEN-A', 4), ('MSN-A', 4), ('VLINDER', 4), ('VISICOM-B', 4), ('DUITSLAND-B', 4), ('INTERNET-D', 4), ('AMSTEL-A', 4), ('GROLSCH', 4), ('BUNNIK', 4), ('REGENPIJP-E', 4), ('SHAPE+Snavel_open', 4), ('STOK-B', 4), ('GAMMA', 4), ('DOVENCLUB-B', 4), ('UITDAGEN-C', 4), ('FLIRTEN', 4), ('KLEIN-VERTICAAL-E', 4), ('INZINKING', 4), ('EVALUATIE', 4), ('VALLEN-D', 4), ('ZITTEN-D', 4), ('METRO-A', 4), ('ELEKTRICITEIT-B', 4), ('TEGEN-AAN-LOPEN-C', 4), ('KOPIEREN', 4), ('STAART', 4), ('BUS-D', 4), ('GEBOUW-B', 4), ('ONTPLOFFING-A', 4), ('STAM', 4), ('HEER', 4), ('DIPLOMA-C', 4), ('KAART-B', 4), ('TOF', 4), ('KUNNEN-NIET-C', 4), ('UITKNIJPEN-TUBE', 4), ('RUZIE-B', 4), ('WERKLOOS', 4), ('MACHINE-A', 4), ('KNOOP', 4), ('VASTHOUDEN-K', 4), ('SCHOEN-A', 4), ('UUR+9-B', 4), ('ONDERLICHAAM', 4), ('PROCENT-C', 4), ('60-D', 4), ('#Y', 4), ('LEEUWARDEN-A', 4), ('HUISWERK', 4), ('ANNOTEREN', 4), ('STRENG', 4), ('AUSTRALIE', 4), ('IDENTIFICEREN', 4), ('JAGEN-A', 4), ('VLIEGEN', 4), ('VERSCHIL-B', 4), ('FABRIEK-B', 4), ('PENSIOEN-A', 4), ('EVEN-TERUG', 4), ('JONGEN-B', 4), ('SAMEN+5', 4), ('KRIJGEN-A', 4), ('LOLLY', 4), ('ONDERBROEK', 4), ('PLAKKEN-A', 4), ('JURK', 4), ('ONHANDIG', 4), ('DRUK-B', 4), ('VERBERGEN', 4), ('GLAS-C', 4), ('AANDACHT-C', 4), ('PROCENT-D', 4), ('BIJVOORBEELD-D', 4), ('PINDA', 4), ('HYVES', 4), ('ISOLEMENT', 4), ('PIVOT+4', 4), ('INDIA', 4), ('SYLVESTER-B', 4), ('ZETTEN-LEGGEN-H', 4), ('AANTREKKEN', 4), ('VRIJ-A', 4), ('PILOOT', 4), ('JAGEN-B', 4), ('FABRIEK-A', 4), ('ENE-KANT-ANDERE-KANT-D', 4), ('HORIZONTAAL', 4), ('VERBINDEN', 4), ('VERSCHIL-C', 4), ('ONZICHTBAAR-D', 4), ('ZETTEN-LEGGEN-D', 4), ('VOORTGANG', 4), ('OVER+GETAL-B', 4), ('PLAGEN-A', 3), ('EILAND', 3), ('EUROPA-C', 3), ('NADENKEN-C', 3), ('PRATEN-I', 3), ('ERG-E', 3), ('HAND-SCHUDDEN-A', 3), ('OMDAT-B', 3), ('PRACHTIG-B', 3), ('MIDDAG-B', 3), ('JOOD', 3), ('DUIKEN-A', 3), ('POEP-A', 3), ('WC-D', 3), ('ELKE-C', 3), ('OVERHEID-A', 3), ('SUKKEL-B', 3), ('UITVOEREN', 3), ('DECEMBER-B', 3), ('OP-NmG', 3), ('JEUGDHERBERG', 3), ('HAGELSLAG-A', 3), ('AFRIKA-B', 3), ('RADIO', 3), ('VERLEGEN-A', 3), ('DESKUNDIG-A', 3), ('WASSEN-B', 3), ('EINDHOVEN', 3), ('WOW', 3), ('UTRECHT-A', 3), ('UUR+5', 3), ('BLIJ-D', 3), ('KERMIS-A', 3), ('STOPLICHT', 3), ('BOOS-B', 3), ('WORDEN', 3), ('MENING-A', 3), ('BADMINTON', 3), ('GEBAREN-D', 3), ('WAARVOOR', 3), ('SCHIETEN-C', 3), ('KRIEBELS-IN-DE-BUIK', 3), ('UUR-A', 3), ('CHICAGO', 3), ('SNEL-B', 3), ('WISKUNDE-B', 3), ('30-B', 3), ('DOKTER-C', 3), ('CHEF-A', 3), ('GEDULD', 3), ('OOK-D', 3), ('INCIDENTEEL', 3), ('KLAGEN-B', 3), ('VERTICAAL-VLAK-A', 3), ('GAAN-NAAR-B', 3), ('THEORIE', 3), ('EN-A', 3), ('VERTICALE-CYLINDER-B', 3), ('ROBOT', 3), ('DIRECTEUR-B', 3), ('BOER', 3), ('KWARTIER', 3), ('AFSCHEIDEN-A', 3), ('STEM-E', 3), ('VROEGER-C', 3), ('VOORSTELLEN-B', 3), ('VIEREN', 3), ('CONCIERGE', 3), ('NIKS-D', 3), ('GEEL-B', 3), ('KORT-SHIRT', 3), ('ITALIE-A', 3), ('HAMBURG', 3), ('BENZINE', 3), ('PIVOT+C', 3), ('80-C', 3), ('DOM-C', 3), ('DOORSNIJDEN', 3), ('BOBO', 3), ('AT+T', 3), ('ARGUMENT', 3), ('MEDICIJN-B', 3), ('EMBRYO', 3), ('MENEER-A', 3), ('DRIEEN-A', 3), ('TRAP-A', 3), ('VOORKEUR', 3), ('GRAP-B', 3), ('KIJKEN-C', 3), ('HART-A', 3), ('NINTENDO', 3), ('PUBER-A', 3), ('GOLF', 3), ('AFBLIJVEN', 3), ('HERINNEREN-C', 3), ('BOOS-D', 3), ('LIJST-B', 3), ('MAAT-VERTICAAL-E', 3), ('GELUIDSGOLVEN', 3), ('70-C', 3), ('26', 3), ('VALLEN-B', 3), ('KLOK-B', 3), ('KONING', 3), ('33', 3), ('PAD', 3), ('SCHUIM', 3), ('RIJK-A', 3), ('STIK-B', 3), ('KEEPER', 3), ('ORANJE-D', 3), ('SCHEIDSRECHTER', 3), ('OPTILLEN-G', 3), ('VASTHOUDEN-J', 3), ('DESKUNDIG-C', 3), ('ZAND-B', 3), ('STIJL-A', 3), ('VREEMD-E', 3), ('LENEN-A', 3), ('RECHTER', 3), ('ZIEN-A-IK', 3), ('DEUR-B', 3), ('KARWEI', 3), ('OUDSTE-A', 3), ('TOT-A', 3), ('BE+Y', 3), ('SHAPE+Baby_O', 3), ('SPLEETOOG', 3), ('ROOSTER', 3), (\"ABBE-DE-L'EPEE\", 3), ('SHAPE+Baby_snavel', 3), ('AFRIKA-C', 3), ('JAN-WILLEM-VAN-MANSVELT', 3), ('VERVELEN-B', 3), ('PRETTIG-B', 3), ('REGENPIJP-F', 3), ('JUNI-A', 3), ('HEADSET', 3), ('MEI-A', 3), ('WINNEN-C', 3), ('EMISSIE', 3), ('ZACHT', 3), ('SCHOUDER', 3), ('KAMMEN-A', 3), ('GETUIGE', 3), ('EERLIJK-A', 3), ('STROPDAS', 3), ('PORTOFOON', 3), ('DEFTIG', 3), ('KIPPEVEL', 3), ('VANGEN', 3), ('BIJVOORBEELD-C', 3), ('KLOK-A', 3), ('PLOTSELING-B', 3), ('TWEEEN-E', 3), ('EERST-B', 3), ('UUR+3-B', 3), ('OVERLEGGEN-B', 3), ('MAAT-VERTICAAL-A', 3), ('VANDAAR-B', 3), ('TAART-A', 3), ('NOORWEGEN', 3), ('ZEE', 3), ('HAAK', 3), ('STOUT-C', 3), ('5.ORD', 3), ('WIJN', 3), ('BARENDRECHT', 3), ('BEDANKEN-B', 3), ('OM-DE+GETAL-A', 3), ('SNOR-B', 3), ('DUIDELIJK-B', 3), ('ALLEEN-C', 3), ('KUNNEN-D', 3), ('NAIEF', 3), ('REAGEREN-B', 3), ('SHAPE-RP+Snavel_open', 3), ('CIJFER-B', 3), ('IS-B', 3), ('LACHEN-G', 3), ('BELOVEN', 3), ('LOGEREN-C', 3), ('ZIN-IN-B', 3), ('PT-Vhand:wijs-mid', 3), ('NEGATIEF-A', 3), ('MOEILIJK-B', 3), ('VERWARD-B', 2), ('JUNI-C', 2), ('TUIN-A', 2), ('AFSNIJDEN', 2), ('KWISPELEN', 2), ('KUNSTGEBIT', 2), ('PRUIK', 2), ('WOLK', 2), ('BANG-C', 2), ('KOPJE-A', 2), ('MILJOEN', 2), ('RUGZAK-A', 2), ('HERFST', 2), ('GROOT-VERTICAAL-E', 2), ('TROUWEN-C', 2), ('HAND-OP-MOND-B', 2), ('BIDDEN-B', 2), ('VIES-A', 2), ('ROLLATOR', 2), ('KEPPEL', 2), ('DUIKEN-D', 2), ('INTERNAAT-C', 2), ('BEMOEIEN-A', 2), ('HART-B', 2), ('GEVOEL-B', 2), ('DORDRECHT-A', 2), ('WELKE-C', 2), ('CANADA', 2), ('TAAL-D', 2), ('CONGRES-B', 2), ('DONDERDAG-B', 2), ('VRIJDAG-B', 2), ('JANUARI-A', 2), ('MEI-B', 2), ('BOS-B', 2), ('TAXI-A', 2), ('LAAT-B', 2), ('WACHTEN-C', 2), ('NOEN', 2), ('GEK-C', 2), ('KRUISING', 2), ('BEKEURING', 2), ('DATUM', 2), ('ENE-KANT-ANDERE-KANT-E', 2), ('ALSOF-A', 2), ('BESTAAN-D', 2), ('STEL-C', 2), ('DEAFISME', 2), ('BETROKKEN', 2), ('PROEVEN-B', 2), ('RODDELEN-A', 2), ('RODDELEN-B', 2), ('REGELS-B', 2), ('SCHAGEN', 2), ('MAGER-B', 2), ('SURFEN-A', 2), ('VIJVEN', 2), ('ONTSPANNEN-F', 2), ('BRABANT-A', 2), ('MAASTRICHT-C', 2), ('VERZEKERING', 2), ('MAAND-D', 2), ('OUDERS-C', 2), ('NIJMEGEN-B', 2), ('ZIEKENHUIS-A', 2), ('WAAR-C', 2), ('ZITTEN-B', 2), ('MOETEN-B', 2), ('KOKEN-A', 2), ('PARKEREN-B', 2), ('GEBRUIKEN-E', 2), ('KLEUR-C', 2), ('SOMS-B', 2), ('GEWOON-E', 2), ('BEJAARD', 2), ('DRUPPELEN', 2), ('DWINGEN', 2), ('KOUD-C', 2), ('OPLOSSEN-B', 2), ('REIZEN-C', 2), ('LEREN-B', 2), ('LAND-B', 2), ('ZWOLLE', 2), ('KLOOF', 2), ('NON-B', 2), ('PROFESSIONEEL', 2), ('INTERNAAT-A', 2), ('WORST-A', 2), ('GRAFSTEEN', 2), ('GRAPPIG-E', 2), ('GITAAR', 2), ('ACCORDEON', 2), ('PIANO', 2), ('SLUIPEN', 2), ('ACHTER-C', 2), ('GRENS', 2), ('PLOTSDOOF', 2), ('WINST', 2), ('PAPEGAAI', 2), ('BRUTAAL-B', 2), ('STANDAARDISATIE-C', 2), ('GEHEIM-A', 2), ('WEEK+2', 2), ('UUR+2-A', 2), ('GEBRUIKEN-B', 2), ('SLECHTHOREND-E', 2), ('AG-BELLSCHOOL', 2), ('WATERPOKKEN', 2), ('VISUEEL-B', 2), ('OP-PAPIER', 2), ('LA', 2), ('MIMIEK-C', 2), ('ACHTERGROND-A', 2), ('ABONNEMENT-A', 2), ('GIF', 2), ('LINIAAL-A', 2), ('RAAM-B', 2), ('VIERHANDENGEBAREN', 2), ('PECH-B', 2), ('BARBECUE', 2), ('TAXI-B', 2), ('PAKKEN-E', 2), ('COMPLIMENT', 2), ('ZAANDAM', 2), ('FLUISTEREN', 2), ('ADEMEN-B', 2), ('SERVET', 2), ('SJAAL', 2), ('GODZIJDANK', 2), ('BERLIJN', 2), ('DRINKEN-C', 2), ('VASTHOUDEN-Z', 2), ('DRAGEN-J', 2), ('OMVALLEN-B', 2), ('BLADEREN', 2), ('MALI', 2), ('GHANA', 2), ('SLAGTANDEN', 2), ('IVOORKUST', 2), ('LACHEN-E', 2), ('BEDELEN', 2), ('BE+Snavel_open', 2), ('MOSLIM', 2), ('BREKEN-D', 2), ('KOEK-A', 2), ('VRIEZEN', 2), ('LAPTOP', 2), ('BESTELLEN-C', 2), ('LUISTEREN-NIET-A', 2), ('WEEK+3', 2), ('MARTHAS-VINEYARD', 2), ('KOKEN-C', 2), ('WERVEN', 2), ('HART-C', 2), ('AANKLEDEN-D', 2), ('KOPJE-B', 2), ('LINGUISTIEK', 2), ('BIOLOGIE-A', 2), ('MIMIEK-B', 2), ('VANUIT', 2), ('BESCHERMEN-B', 2), ('HIPPIE-A', 2), ('TENNIS', 2), ('LEEUWARDEN-B', 2), ('KRUKKEN', 2), ('TRUI', 2), ('BAARMOEDER', 2), ('NATUUR-B', 2), ('LUKKEN-NIET-B', 2), ('HOUVAST', 2), ('TELHAND+6', 2), ('CHATTEN', 2), ('TIJD-D', 2), ('FITNESS-A', 2), ('STEPPEN-B', 2), ('JUDO', 2), ('ONTPLOFFING-B', 2), ('AVONTUUR', 2), ('HERSENVLIESONTSTEKING-B', 2), ('MOORD-C', 2), ('OUDSTE-B', 2), ('PUZZEL', 2), ('KLEUR-B', 2), ('KLEUR-D', 2), ('BEHEER', 2), ('PRIJS', 2), ('PARDON', 2), ('DROOG-B', 2), ('MOTORRIJDEN', 2), ('CHINA', 2), ('BORSTEN', 2), ('90-B', 2), ('CHIPS-B', 2), ('PEUTEREN', 2), ('VERHEUGEN', 2), ('LINIAAL-B', 2), ('WACHTEN-F', 2), ('KLOPT-F', 2), ('ZWEEP', 2), ('GROOT-SAGITTAAL-C', 2), ('AUDIOLOGIE', 2), ('80-B', 2), ('STORM', 2), ('HAASTIG-B', 2), ('HANDEN-VOOR-GEZICHT', 2), ('MOVE+3', 2), ('PLEISTER-C', 2), ('AANKLEDEN-C', 2), ('AFSPRAAK-F', 2), ('IN-GEDACHTEN-PRATEN', 2), ('BAARD-A', 2), ('BAARD-B', 2), ('DRONKEN-C', 2), ('VROEG', 2), ('SCHAKELEN-B', 2), ('SINAASAPPEL', 2), ('ORANJE-E', 2), ('SHAPE-RP+B', 2), ('DICHT-A', 2), ('TEKENTAFEL', 2), ('SHAPE+T', 2), ('IJS-B', 2), ('BELEID', 2), ('SURFEN-C', 2), ('BORD-A', 2), ('DOUCHEN', 2), ('TRACTOR', 2), ('SCHIETEN-D', 2), ('RECHTS', 2), ('SNEL-D', 2), ('MAGER-C', 2), ('PIVOT+V', 2), ('FITNESS-B', 2), ('SPITS', 2), ('METRO-C', 2), ('ONDERHOUDEN-A', 2), ('PRIVE', 2), ('SOLIDAIR', 2), ('GENERATIE-B', 2), ('MOORD-E', 2), ('LAMP', 2), ('WESTERBORK', 2), ('ACHTERUITGANG', 2), ('BORD-B', 2), ('TAAK', 2), ('BEVRUCHTEN', 2), ('CONTEXT-A', 2), ('HEINEKEN-A', 2), ('STER', 2), ('DUITSLAND-C', 2), ('PORTUGAL-B', 2), ('EUROPA-A', 2), ('BAKKEN-B', 2), ('MOVE+Snavel_open', 2), ('WASSEN-D', 2), ('LUNCH', 2), ('PAKKEN-D', 2), ('WOKKEL-A', 2), ('WOKKEL-B', 2), ('GEBOGEN-CYLINDER', 2), ('TELEFOON-OPNEMEN', 2), ('HOED-B', 2), ('BLIJ-E', 2), ('AIDS', 2), ('HEILIGE-GEEST', 2), ('KENNEN-NIET', 2), ('FEEDBACK', 2), ('AFRONDEN', 2), ('OP-EN-NEER', 2), ('HERHALEN-A', 2), ('BEER-C', 2), ('START-B', 2), ('22-B', 2), ('TOEKOMST-C', 2), ('NUCHTER', 2), ('TELHAND+7', 2), ('TELHAND+8', 2), ('BE+Baby_C', 2), ('KAST', 2), ('VERTROUWEN-C', 2), ('KLUNGELEN', 2), ('ECHO', 2), ('MAAT-HORIZONTAAL-A', 2), ('SYSTEEM', 2), ('ASSERTIEF', 2), ('COMMANDEREN', 2), ('KLIMMEN-B', 2), ('VROUW-E', 2), ('VOORRANGSKRUISING', 2), ('ZETTEN-LEGGEN-L', 2), ('DOLLAR-A', 2), ('BLOWEN', 2), ('PIJPEN', 2), ('SEPTEMBER-B', 2), ('INTERNET-E', 2), ('EMMEN', 2), ('IRENE-BEHRENDT', 2), ('AAIEN:1', 2), ('VERSCHIJNEN', 2), ('OVERLAP', 2), ('INKRIMPEN-E', 2), ('1:OVERNEMEN', 2), ('LUISTEREN-NIET-B', 2), ('INKRIMPEN-C', 2), ('19-A', 2), ('BANK', 2), ('MARTINISTAD', 2), ('SPIJT-D', 2), ('HOEK-C', 2), ('SCHAAL', 2), ('VALLEN-C', 2), ('BRUG-C', 2), ('GEMEENTE', 2), ('VRIJGEZEL-B', 2), ('GEHANDICAPT-F', 2), ('CI-AFDOEN-C', 2), ('SEVEN-UP-B', 2), ('OMKEREN', 2), ('17-A', 2), ('KAAS-C', 2), ('JAM-B', 2), ('START-A', 2), ('GENOEG-VAN', 2), ('VOORSTELLING', 2), ('CASSIS', 2), ('ZUUR', 2), ('EINDELIJK-B', 2), ('SEVEN-UP-A', 2), ('ROGGEBROOD', 2), ('BEHOEFTIG-B', 2), ('MAART-A', 2), ('RECLAME-B', 2), ('MOND-DICHT-C', 2), ('BLOKKEREN', 2), ('LABORATORIUM', 2), ('REGELMATIG-A', 2), ('ZONDAG-B', 2), ('PLAKKEN-C', 2), ('BLOKFLUIT', 2), ('KOEK-B', 2), ('AFHANKELIJK-E', 2), ('PLUS-B', 2), ('RUIMTE-B', 2), ('VERLEGEN-B', 2), ('DOOF-F', 2), ('RUIS', 2), ('ONVOORSTELBAAR', 2), ('MOND-DICHT-B', 2), ('OP-JE-TENEN-LOPEN', 2), ('JOURNAAL-B', 2), ('WOORD-EN-GEBAAR-A', 2), ('IJVERIG', 2), ('MOPPEREN-B', 2), ('NEEF-NICHT', 2), ('BELOVEN-B', 2), ('HOED-D', 2), ('LOSLATEN-A', 2), ('CARNAVAL', 2), ('AFSPRAAK-B', 2), ('SAMENVATTEN', 2), ('ARCHIEF-A', 2), ('SLECHT-D', 2), ('VOLGZAAM-B', 2), ('SCHAKELAAR', 2), ('BAAS-B', 2), ('DUIMEN', 2), ('UIT-B', 2), ('TROUWEN-A', 2), ('BALEN-C', 2), ('BREDE-SCHOUDERS', 2), ('ONTSPANNEN-H', 2), ('ANTENNE', 2), ('LENS', 2), ('BAND', 2), ('HANDREM-A', 2), ('PLEZIER-B', 2), ('NIKS-F', 2), ('AUGUSTUS', 2), ('NAAM-H', 2), ('FILMEN-C', 2), ('BOMBARDEREN', 2), ('6.ORD-B', 2), ('AFKOMST', 2), ('OPSCHIETEN-B', 2), ('POP-B', 2), ('TEKENEN-C', 2), ('ONDERWIJS-B', 2), ('MENEER-D', 2), ('HAND-SCHUDDEN-B', 2), ('SCHOENMAKER-A', 2), ('ELASTIEK-A', 2), ('UUR+8-B', 2), ('MIDDAG-A', 2), ('DOOF-G', 2), ('VERTROUWEN-B', 2), ('ZOEKEN-B', 2), ('MOE-C', 2), ('OPEN-OGEN', 2), ('BAARD-C', 2), ('HOP-ELKAAR', 2), ('GROOT-HORIZONTAAL-B', 2), ('PASSEREN', 2), ('VEEL-D', 2), ('BEGINNEN-D', 2), ('ALARM', 2), ('METSELEN-B', 2), ('MAAT-VERTICAAL-F', 2), ('ZIN-IN-D', 2), ('LASTIG-B', 2), ('INKRIMPEN-D', 2), ('NIKS-G', 2), ('BIT', 2), ('ZOETERMEER', 2), ('MORGEN-D', 2), ('ALBERT-HEIJN', 2), ('CAFE-D', 2), ('ONDERDRUKKEN-B', 2), ('BOWLINGHAL', 2), ('NIEUW-D', 2), ('SPREKEN', 2), ('REGERING-E', 2), ('VOLGZAAM-A', 2), ('SHAPE+O', 2), ('NAAR-BUITEN', 2), ('GRIJS-A', 2), ('CI-AFDOEN-A', 2), ('JOYSTICK', 2), ('NAAM-I', 2), ('REGENPIJP-A', 2), ('KUIP', 2), ('VASTHOUDEN-C', 2), ('VERVANGEN', 2), ('BEELD.PL', 2), ('PROTEST-C', 2), ('HANDSCHOENEN-A', 2), ('BOOS-E', 2), ('WENNEN-A', 2), ('AANSTEKER', 2), ('INFORMEREN', 2), ('DOVENSCHOOL-A', 2), ('MACHINE-B', 2), ('FILTER', 2), ('HANDDOEK', 2), ('WARM-B', 2), ('TOUW-B', 2), ('GRAS-B', 2), ('GRAZEN-B', 2), ('SHOARMA', 2), ('SURINAME-A', 2), ('TIJD-AFBAKENEN', 2), ('UUR-LANG+10', 2), ('OPVANG', 2), ('NIKS-KUNNEN', 2), ('VANZELFSPREKEND', 2), ('MALEN', 2), ('SPLITSEN', 2), ('DOCENT', 2), ('RADSLAG', 2), ('SUCCES-B', 2), ('LAST', 2), ('SLUITEN', 2), ('STABOL-FUCK', 2), ('OVERLEVEN', 2), ('UNIVERSITEIT-C', 2), ('ONTBREKEN', 2), ('OOK-E', 2), ('ROEMENIE-A', 2), ('HOMO-B', 2), ('DIRECTEUR-C', 2), ('BESTAAN-C', 2), ('SOLLICITEREN', 2), ('BEDANKEN-C', 2), ('VASTHOUDEN-F', 2), ('SCHILDPAD-B', 2), ('MUIS-D', 2), ('ALWEER', 2), ('PROBLEEM-B', 2), ('GELEDEN+GETAL-B', 2), ('TWIJFEL-C', 2), ('TROTS-B', 2), ('NIKS-E', 2), ('OVERGANG', 2), ('CONTRACT-A', 2), ('TEGELIJKERTIJD', 2), ('KOFFIE-C', 2), ('DOEN-C', 2), ('LIPPENSTIFT', 1), ('FINLAND', 1), ('POND', 1), ('FRANKRIJK-B', 1), ('BOREN', 1), ('DEVENTER-A', 1), ('SOLDAAT-B', 1), ('OVER+GETAL-A', 1), ('STIK-D', 1), ('OORLOG-E', 1), ('INSTEKEN-B', 1), ('WELKE-B', 1), ('OUD-C', 1), ('AANGELIJND-A', 1), ('RIVIER', 1), ('BAKVIS', 1), ('AANLEUNEN', 1), ('HYPOCRIET', 1), ('MONGOOL-B', 1), ('TEKST-IN-BEELD', 1), ('BEUGEL', 1), ('JOURNAAL-A', 1), ('ALSOF-D', 1), ('COMMUNIST', 1), ('55', 1), ('VIDEO-B', 1), ('VERKOPEN', 1), ('PINNEN-A', 1), ('SMEREN', 1), ('SLECHTHOREND-B', 1), ('BALEN-E', 1), ('ARNHEM', 1), ('OPSCHEPPEN-B', 1), ('DRIEEN-B', 1), ('BRAZILIE-B', 1), ('GRAFISCH', 1), ('HOER', 1), ('WAAR-D', 1), ('KWARTIER-3', 1), ('STATION-A', 1), ('LENEN-B', 1), ('VERZUIMEN', 1), ('BRUTAAL-C', 1), ('ONGELOFELIJK-A', 1), ('VUGHT', 1), ('BALEN-D', 1), ('TONG', 1), ('HERSENVLIESONTSTEKING-A', 1), ('HERHALEN-B', 1), ('EUROPA-B', 1), ('STRAND', 1), ('DRONKEN-A', 1), ('SCHIETEN-B', 1), ('BLAASTEST', 1), ('EERLIJK-D', 1), ('MIS-D', 1), ('20-C', 1), ('FOUT-C', 1), ('KATHOLIEK-C', 1), ('ROEPEN-C', 1), ('#Q', 1), ('MAART-C', 1), ('UUR-B', 1), ('ANTWOORD-B', 1), ('WIE-E', 1), ('OSS', 1), ('WEINIG', 1), ('HEBBEN-D', 1), ('HASSELT', 1), ('PRIESTER', 1), ('ONWEER', 1), ('SCHREEUWEN-C', 1), ('PUBER-B', 1), ('GRATIS-B', 1), ('BEHEERSEN', 1), ('SPAREN-A', 1), ('MOORD-B', 1), ('BENAUWD', 1), ('ZIN-IN-C', 1), ('STRAF-C', 1), ('HOOFDDORP', 1), ('ZITTEN-C', 1), ('VERKEERD', 1), ('CORRIGEREN', 1), ('HAARLEM', 1), ('VANAF-NU-B', 1), ('SOK-B', 1), ('ALLOCHTOON-B', 1), ('NOEMEN', 1), ('11-A', 1), ('ACHTERGROND-B', 1), ('TOEKOMST-B', 1), ('AANKLOPPEN-B', 1), ('CLOWN', 1), ('HORIZONTALE-CYLINDER-B', 1), ('PEST-AAN', 1), ('VERPLAATSEN-C', 1), ('STRAKS-B', 1), ('AUREOOL', 1), ('MOVE+Baby_snavel', 1), ('MISSCHIEN', 1), ('KOPJE-C', 1), ('LOSLATEN-B', 1), ('ZONDAAR', 1), ('WEST-B', 1), ('HUID-A', 1), ('EURO', 1), ('PIJN-D', 1), ('MEDISCH', 1), ('MCDONALDS-B', 1), ('VAK', 1), ('ADOLF-HITLER-B', 1), ('BLOND-A', 1), ('MADRID', 1), ('ZICH-BELEDIGD-VOELEN', 1), ('OPBLOEIEN-A', 1), ('VERLIEFD-B', 1), ('HIPPIE-B', 1), ('DOM-B', 1), ('OPLETTEN-B', 1), ('LANGE-MOUW', 1), ('OKTOBER-B', 1), ('GA-WEG', 1), ('AFPAKKEN:1', 1), ('MONTEUR', 1), ('GLAS-A', 1), ('KLANT', 1), ('KLAGEN-C', 1), ('WINNEN-B', 1), ('BE+Snavel', 1), ('KNIKKER', 1), ('VUIL', 1), ('MIS-C', 1), ('BOODSCHAPPEN-C', 1), ('DROP', 1), ('MICROFOON-A', 1), ('BELEDIGEN', 1), ('GROOT-VERTICAAL-A', 1), ('ONDERWERP-D', 1), ('21', 1), ('23', 1), ('24', 1), ('25', 1), ('REKENEN-B', 1), ('HERINNEREN-B', 1), ('HERINNEREN-A', 1), ('SPUGEN-A', 1), ('KLOOTZAK', 1), ('KARNEMELK', 1), ('ZEEP', 1), ('PET-C', 1), ('DENEMARKEN', 1), ('OLIFANTENHUID', 1), ('VOLWASSEN-A', 1), ('OPSTOKEN', 1), ('ASSEN', 1), ('HERDER', 1), ('PIVOT+Baby_snavel', 1), ('GROOT-VERTICAAL-D', 1), ('DRAGEN-H', 1), ('LIP', 1), ('DEMOCRATIE', 1), ('VERLOEDEREN', 1), ('40-B', 1), ('LEEGHOOFD-B', 1), ('ZIEL', 1), ('REMMEN-B', 1), ('ALLERGIE', 1), ('VASTHOUDEN-D', 1), ('LIEVER-B', 1), ('VOLWASSEN-B', 1), ('HEFTRUCK', 1), ('SNOEP-A', 1), ('AFSTANDSBEDIENING', 1), ('BE+Baby_snavel_open', 1), ('TELEFOON-NEERLEGGEN', 1), ('VOORWAARTS', 1), ('SHAPE-RP+Baby_O', 1), ('INTERVIEW-A', 1), ('TOENEMEND-ZELFVERTROUWEN', 1), ('MOPPEREN-A:1', 1), ('BAKKEBAARD', 1), ('HAND-OP-HOOFD', 1), ('ANNEMIEKE-VAN-KAMPEN', 1), ('SCHEREN', 1), ('BEDRIEGEN', 1), ('DRONKEN-B', 1), ('PIVOT+T', 1), ('ERUIT-B', 1), ('VASTHOUDEN-A', 1), ('HOMIE', 1), ('UITNODIGEN', 1), ('PIL', 1), ('JULI-A', 1), ('NIMO-HERSI-B', 1), ('STATION-B', 1), ('NOVEMBER-A', 1), ('AT+O', 1), ('ONDERTITELING-A', 1), ('KINDERACHTIG-A', 1), ('PROJECTEREN', 1), ('REIKEN', 1), ('800', 1), ('LINKS', 1), ('TANDENPOETSEN-A', 1), ('OCHTEND-C', 1), ('PIJP', 1), ('SCHILDEREN-B', 1), ('MEESTAL', 1), ('ROZE', 1), ('ARCHIEF-B', 1), ('OMHELZEN', 1), ('VROUW-D', 1), ('UUR+1', 1), ('COLA', 1), ('RIJK-B', 1), ('PARFUM', 1), ('DOOR-DE-VINGERS-ZIEN', 1), ('WODKA', 1), ('ZWITSERLAND-A', 1), ('CUBA', 1), ('MOORD-D', 1), ('ADOLF-HITLER-A', 1), ('HUID-B', 1), ('BIOSCOOP', 1), ('VREEMD-F', 1), ('SAAI-B', 1), ('DESKUNDIG-B', 1), ('11-D', 1), ('12-D', 1), ('16-A', 1), ('LUSTEN', 1), ('VERBAASD-D', 1), ('RODEN', 1), ('LEERLING-C', 1), ('ELLEBOOGSTOOT', 1), ('BOF', 1), ('GEHEUGEN', 1), ('VAN-UDEN', 1), ('VERTICAAL-VLAK-D', 1), ('VERTICAAL-VLAK-C', 1), ('BE+Baby_O', 1), ('PUNK', 1), ('HEERENVEEN', 1), ('POP-A', 1), ('CONFECTIE', 1), ('STRIJKEN', 1), ('KIPPENVLEES', 1), ('NAAM-E', 1), ('GRIJS-C', 1), ('NOG-D', 1), ('KERST-B', 1), ('BAAS-E', 1), ('DIRECTEUR-E', 1), ('KLEIN-B', 1), ('MAART-B', 1), ('19-E', 1), ('CHEF-B', 1), ('NAAM-G', 1), ('HEUVEL.PL', 1), ('PET-B', 1), ('KAPITEIN', 1), ('SCHEVENINGEN-A', 1), ('DEN-HAAG-A', 1), ('PLASSEN', 1), ('APELDOORN', 1), ('DEN-HAAG-B', 1), ('WIE-F', 1), ('INDRUKKEN-A', 1), ('KOPEN-D', 1), ('ZUIPEN', 1), ('LONG', 1), ('SIMPEL', 1), ('50-D', 1), ('WC-E', 1), ('9-C', 1), ('MENEER-C', 1), ('MENEER-B', 1), ('PECH-D', 1), ('WEGGOOIEN-B', 1), ('VOORDEEL-B', 1), ('DOOF-H', 1), ('ZIELIG-B', 1), ('OUDSTE-C', 1), ('ZWITSERLAND-B', 1), ('RINKELEN', 1), ('VERDOMME-C', 1), ('#G-B', 1), ('DUMPEN', 1), ('STARTSCHOT', 1), ('TIP', 1), ('HERSENEN-B', 1), ('VERDOMME-B', 1), ('ROKEN', 1), ('ONZIN-D', 1), ('MUIS-A', 1), ('SENSEO-J', 1), ('PIVOT+Snavel', 1), ('HELIKOPTER', 1), ('GOOIEN-F', 1), ('COOL', 1), ('QUAZ', 1), ('ZEUREN', 1), ('ZIEK-C', 1), ('VOS-C', 1), ('GRIJS-D', 1), ('LAURENT-CLERC', 1), ('THOMAS-GALLAUDET', 1), ('ONGELOFELIJK-B', 1), ('14-C', 1), ('STOOM', 1), ('ZWIJGEN-A', 1), ('STIK-C', 1), ('SCHUIN', 1), ('GLAS-B', 1), ('12-A', 1), ('BELEDIGEN:1', 1), ('WRINGEN', 1), ('PUNT-D', 1), ('CLUBHUIS-A', 1), ('WELZIJN-A', 1), ('FRANKRIJK-D', 1), ('HONGARIJE-A', 1), ('HOMO-C', 1), ('ZICHTBAAR-A', 1), ('FLUITEN', 1), ('ERUIT-A', 1), ('CIJFER-A', 1), ('AT+S', 1), ('SHAPE-RP+1', 1), ('WAT-H', 1), ('STELT-NIETS-VOOR', 1), ('MAROKKO-B', 1), ('LEUK-B', 1), ('HALEN-C', 1), ('VIES-C', 1), ('TE', 1), ('BLIND-F', 1), ('SAMEN-E', 1), ('DRINKEN-E', 1), ('LIEVER-A', 1)]\n",
      "['PO' 'PT-1hand' 'PT-1hand:1' ... 'SAMEN-E' 'DRINKEN-E' 'LIEVER-A']\n"
     ]
    }
   ],
   "source": [
    "# Without distinctions, we can capture the most common signs\n",
    "# Otherwise a manual sim. instances is counted as sign of its own\n",
    "\n",
    "# Signbank dictionary info\n",
    "df = pd.read_csv(PATHS['signbank_dictionary_info'])\n",
    "\n",
    "dutch_anns = []\n",
    "if ind == 1:\n",
    "    for i, gloss in enumerate(anns_values):\n",
    "        print('{}/{}'.format(i, len(anns_values)), end = '\\r')\n",
    "        dutch_name = df.loc[df['Annotation ID Gloss (English)']==gloss]['Annotation ID Gloss (Dutch)']\n",
    "        # Also check if it isn't already Dutch\n",
    "        already_dutch = df.loc[df['Annotation ID Gloss (Dutch)']==gloss]['Annotation ID Gloss (Dutch)']\n",
    "        # Check if there's any English entries equal to this annotation, if so we map to Dutch\n",
    "        if dutch_name.shape[0] > 0:\n",
    "            dutch_gloss = dutch_name.tolist()[0]\n",
    "        elif already_dutch.shape[0] > 0:\n",
    "            dutch_gloss = gloss\n",
    "        else: continue\n",
    "        dutch_anns.append(dutch_gloss)\n",
    "    dutch_counts = Counter(dutch_anns)\n",
    "    dutch_most_common = dutch_counts.most_common()\n",
    "    top = -1\n",
    "    if top != -1: # -1 is using all signs\n",
    "        top_signs = dutch_most_common[:top] \n",
    "    else:\n",
    "        top_signs = dutch_most_common\n",
    "    print(top_signs)\n",
    "    top_signs = np.array([x[0] for x in top_signs])\n",
    "    print(top_signs)\n",
    "    np.save(PATHS['top_signs'].format(top), top_signs)\n",
    "    "
   ]
  },
  {
   "cell_type": "code",
   "execution_count": 18,
   "id": "4361943a",
   "metadata": {},
   "outputs": [
    {
     "name": "stdout",
     "output_type": "stream",
     "text": [
      "Occurences of \"GEBAREN\": [('GEBAREN-A', 3090), ('GEBAREN-C', 294), ('GEBAREN-B', 99), ('~GEBAREN-A', 66)]\n",
      "\n",
      "Occurencess of manual simultaneity:\n",
      "\n",
      "[]\n",
      "\n",
      "Occurencess of two-handedness:\n",
      "\n",
      "[]\n"
     ]
    }
   ],
   "source": [
    "# The results here will be empty if we chose ind = 0 before, results are only given for ind = 1\n",
    "# Because then we actually tracked manual simultaneity and two-handedness\n",
    "print('Occurences of \"GEBAREN\":', [m for m in most_common if 'GEBAREN' in m[0]])\n",
    "print('\\nOccurencess of manual simultaneity:\\n\\n{}'.format([m for m in most_common if '&&' in m[0]]))\n",
    "print('\\nOccurencess of two-handedness:\\n\\n{}'.format([m for m in most_common if '__2H' in m[0]]))"
   ]
  },
  {
   "cell_type": "code",
   "execution_count": 19,
   "id": "567151db",
   "metadata": {},
   "outputs": [
    {
     "name": "stdout",
     "output_type": "stream",
     "text": [
      "Total unique annotations:\t\t 5222\n",
      "Total annotations:\t\t\t 161961\n",
      "\n",
      "------------------------------\n",
      "\n",
      "Fingerspellings count (start with #)\t 1574\n",
      "Negations count (start with ~)\t\t 1969\n",
      "Uncertainty count (end with ?)\t\t 595\n",
      "Obscured count (start with !)\t\t 83\n",
      "Combined sign count (contain +)\t\t 5784\n",
      "\n",
      "------------------------------\n",
      "\n",
      "Annotations in CNGT that occur exactly in SignBank:\t\t\t 3211\n",
      "Marker-filtered annotations in CNGT that occur exactly in SignBank:\t 3106\n",
      "\n",
      "------------------------------\n",
      "\n",
      "Number of glosses in Signbank: 4159\n"
     ]
    }
   ],
   "source": [
    "# Unique instances vs total instances\n",
    "unique_ann_values = list(set(filtered_anns_values))\n",
    "print('Total unique annotations:\\t\\t', len(unique_ann_values))\n",
    "print('Total annotations:\\t\\t\\t', len(filtered_anns_values))\n",
    "print('\\n' + '-'*30+'\\n')\n",
    "\n",
    "# Marker counts (fingerspelling, negation, uncertainty, obscured, combined)\n",
    "print('Fingerspellings count (start with #)\\t', count_substrings('#', filtered_anns_values)) # Start with #\n",
    "print('Negations count (start with ~)\\t\\t', count_substrings('~', filtered_anns_values)) # Start with ~\n",
    "print('Uncertainty count (end with ?)\\t\\t', count_substrings('?', filtered_anns_values)) # End with ?\n",
    "print('Obscured count (start with !)\\t\\t', count_substrings('!', filtered_anns_values)) # Start with !\n",
    "print('Combined sign count (contain +)\\t\\t', count_substrings('+', filtered_anns_values)) # Contain +\n",
    "print('\\n' + '-'*30+'\\n')\n",
    "\n",
    "gloss_names = gloss_df['Annotation ID Gloss (Dutch)'].tolist()\n",
    "\n",
    "intersect = intersection(gloss_names, unique_ann_values)\n",
    "print('Annotations in CNGT that occur exactly in SignBank:\\t\\t\\t', len(intersect))\n",
    "\n",
    "# We can do better processing of the annotations if we get rid of some markers\n",
    "processed_ann_values = process_ann_values(unique_ann_values)\n",
    "intersect = intersection(gloss_names, processed_ann_values)\n",
    "print('Marker-filtered annotations in CNGT that occur exactly in SignBank:\\t', len(intersect))\n",
    "\n",
    "\n",
    "print('\\n' + '-'*30+'\\n')\n",
    "\n",
    "print('Number of glosses in Signbank:', len(gloss_names))"
   ]
  },
  {
   "cell_type": "code",
   "execution_count": 20,
   "id": "9cc4254d",
   "metadata": {},
   "outputs": [],
   "source": [
    "signbank_not_present = set(gloss_names) - set(intersect)"
   ]
  },
  {
   "cell_type": "code",
   "execution_count": 21,
   "id": "d04f4873",
   "metadata": {},
   "outputs": [],
   "source": [
    "signbank_present_df = gloss_df[gloss_df['Annotation ID Gloss (Dutch)'].isin(intersect)]\n",
    "signbank_not_present_df = gloss_df[gloss_df['Annotation ID Gloss (Dutch)'].isin(signbank_not_present)]"
   ]
  },
  {
   "cell_type": "code",
   "execution_count": 22,
   "id": "8e56889b",
   "metadata": {},
   "outputs": [],
   "source": [
    "# A dictionary with explanations of each column in the dataframe\n",
    "# (Some of these are basically irrelevant for us but have been explained anyways)\n",
    "column_meanings = {\n",
    "'altern': 'alternating movement',\n",
    "'contType': 'contact type',\n",
    "'domhndsh': 'handshape of the dominant hand',\n",
    "'excludeFromEcv': 'exclude from ECV (?)',\n",
    "'handCh': 'handshape change',\n",
    "'Handedness': 'handedness', #  (one handed or two handed, symmetrical or not)\n",
    "'locprim': 'location (where the signing happens)' ,\n",
    "'movDir': 'movement direction',\n",
    "'movSh': 'movement shape',\n",
    "'namEnt': 'named entity (the sign refers to?)',\n",
    "'oriCh': 'orientation change',\n",
    "'relOriLoc': 'relative orientation - location',\n",
    "'relOriMov': 'relative orientation - movement',\n",
    "'relatArtic': 'relation between articulator' ,\n",
    "'repeat': 'whether the sign has repeated movement',\n",
    "'subhndsh': 'handshape of the weak hand',\n",
    "'valence': 'valence (positive/negative)' ,\n",
    "'wordClass': 'word class' ,\n",
    "'gloss_id': 'numerical ID of the gloss',\n",
    "'gloss_name': 'names of the glosses',\n",
    "'inWeb': 'in the web dictionary',\n",
    "'isNew': 'new entries in SignBank'\n",
    "}"
   ]
  },
  {
   "cell_type": "code",
   "execution_count": 23,
   "id": "9b729f4a",
   "metadata": {
    "scrolled": false
   },
   "outputs": [
    {
     "name": "stdout",
     "output_type": "stream",
     "text": [
      "Handedness\n"
     ]
    },
    {
     "data": {
      "image/png": "[encoded data removed]",
      "text/plain": [
       "<Figure size 1600x800 with 1 Axes>"
      ]
     },
     "metadata": {},
     "output_type": "display_data"
    }
   ],
   "source": [
    "# Trying to capture how different the set that's signed in CNGT is compared to the one that isn't\n",
    "def create_counts_df(df_present, df_not_present, col):\n",
    "    df = pd.DataFrame([])\n",
    "    df['present'] = df_present[col].value_counts(normalize=True)\n",
    "    df['not_present'] = df_not_present[col].value_counts(normalize= True)\n",
    "    return df\n",
    "\n",
    "# List of all phonology features that are relevant for the comparison between the present and not-present signs\n",
    "# Suggestion: only plot one of them each time to make sure the plotting parameters are tweaked to the exact plot\n",
    "# cols = ['domhndsh', 'handedness', 'subhndsh', 'locprim', 'altern', 'movDir', 'movSh', 'repeat', \n",
    "#         'locprim', 'contType', 'handCh', 'oriCh']\n",
    "cols = ['Handedness']\n",
    "for col in cols:\n",
    "    print(col)\n",
    "    df = create_counts_df(signbank_present_df, signbank_not_present_df, col)\n",
    "    # Figsize can be changed for plots with more values\n",
    "    ax = df.plot(kind = 'bar', title = 'Counts of the values of ' + column_meanings[col], figsize = (16,8))\n",
    "    # Change the following plotting parameters to change the look of the plot\n",
    "    # This could be necessary for some plots to be readable\n",
    "    ax.title.set_size(25)\n",
    "    ax.legend(fontsize=20)\n",
    "    plt.xlabel('values', fontsize = 20)\n",
    "    plt.ylabel('relative counts (%)', fontsize = 20)\n",
    "    plt.xticks(fontsize = 20, rotation = 0) # Rotation = 90 is necessary for very long x-ticks\n",
    "    plt.yticks(fontsize=20)\n",
    "    plt.show()"
   ]
  },
  {
   "cell_type": "code",
   "execution_count": 24,
   "id": "f22109d9",
   "metadata": {},
   "outputs": [],
   "source": [
    "# Save the intersecting values of the signbank + CNGT to a file\n",
    "file_path = PATHS['signbank_cngt_intersect']\n",
    "store_dict(file_path, intersect)"
   ]
  },
  {
   "cell_type": "markdown",
   "id": "4dd4bfb9",
   "metadata": {},
   "source": [
    "# Corpus NGT gloss analysis"
   ]
  },
  {
   "cell_type": "code",
   "execution_count": 25,
   "id": "2dedc831",
   "metadata": {},
   "outputs": [
    {
     "name": "stdout",
     "output_type": "stream",
     "text": [
      "Number of CNGT files when split into numpy files: 4275\n"
     ]
    }
   ],
   "source": [
    "path = PATHS['np_landmarks']\n",
    "cngt_lmrks = find_files(path, '.npy')\n",
    "print('Number of CNGT files when split into numpy files:', len(cngt_lmrks))"
   ]
  },
  {
   "cell_type": "code",
   "execution_count": 26,
   "id": "bf72b882",
   "metadata": {},
   "outputs": [
    {
     "name": "stdout",
     "output_type": "stream",
     "text": [
      "CPU times: total: 156 ms\n",
      "Wall time: 163 ms\n"
     ]
    }
   ],
   "source": [
    "%%time\n",
    "# Root where all the annotated .eaf sign files are present\n",
    "dataset_root = PATHS['cngt_vids_and_eaf']\n",
    "\n",
    "# List the .eaf files in the root directory to investigate\n",
    "anns_in_dir = [file for file in os.listdir(dataset_root) if file.endswith('.eaf')]\n",
    "\n",
    "anns_with_tiers_path = PATHS['anns_with_tiers']\n",
    "\n",
    "if not os.path.exists(anns_with_tiers_path):\n",
    "    anns_with_tiers = {}\n",
    "    for i, ann_file in enumerate(anns_in_dir):\n",
    "        print(i, end = '\\r')\n",
    "        # Read in the Eaf file \n",
    "        eaf_file = pympi.Elan.Eaf(os.path.join(dataset_root, ann_file))\n",
    "\n",
    "        # Get the glosses and mouthings of the file\n",
    "        anns_dict, _ = get_gloss_vals(eaf_file, True)\n",
    "        anns_dict = man_sim_and_hand_dist(anns_dict)\n",
    "\n",
    "        # Store the glosses, mouthings and tiers\n",
    "        anns_with_tiers[ann_file] = anns_dict\n",
    "    store_dict(anns_with_tiers_path, anns_with_tiers)\n",
    "else:\n",
    "    anns_with_tiers = load_dict(anns_with_tiers_path)"
   ]
  },
  {
   "cell_type": "code",
   "execution_count": 27,
   "id": "7b430785",
   "metadata": {},
   "outputs": [
    {
     "data": {
      "text/plain": [
       "dict_keys(['PALM-UP', 'PT-1hand:1', 'SELF-A', 'PT-1hand', '100-A', '30-A', 'FINISHED-A', '#AN', 'SCHOOL-A', 'FAMILY-C', '2-A', '[NAAM]', 'DEAF-A', 'SPACE-A', '1-A', 'HEAR-A', 'FINE', 'NAME-C', '#K', '#[naam]', 'PARENT-B', 'ALSO-A', 'SIBLING-A', '~KLEIN-A', 'CHILD.PL', 'LARGE-VERTICAL-F', 'NEAR-C', 'SMALL-VERTICAL-F', 'PALM-UP&&WORK-A', 'PALM-UP__2H', 'CONFUSED-B__2H', 'WORK-A__2H', '19-C__2H', '7-A__2H', 'FINISHED-A__2H', 'BORN-A__2H', 'AMSTERDAM__2H', 'FOLLOW__2H', 'THEN-A__2H', 'PT-1hand__2H', 'SIGN-A__2H'])"
      ]
     },
     "execution_count": 27,
     "metadata": {},
     "output_type": "execute_result"
    }
   ],
   "source": [
    "keys = list(anns_with_tiers.keys())\n",
    "anns_with_tiers[keys[0]].keys()"
   ]
  },
  {
   "cell_type": "code",
   "execution_count": 28,
   "id": "52b5e427",
   "metadata": {},
   "outputs": [
    {
     "name": "stdout",
     "output_type": "stream",
     "text": [
      "CPU times: total: 15.6 ms\n",
      "Wall time: 15.4 ms\n"
     ]
    }
   ],
   "source": [
    "%%time\n",
    "def get_presence(lmrk_dict, side, start, end):\n",
    "    lmrk_side = lmrk_dict[side]\n",
    "    lmrk = lmrk_side[start:end]\n",
    "    present = set(np.where(~np.isnan(lmrk))[0]) \n",
    "    total_size = lmrk.shape[0]\n",
    "    return present, total_size\n",
    "\n",
    "# NOTE: the annotations in the corpus include the 3 second disclaimer \n",
    "def ms_to_frame(ms):\n",
    "    sec = ms/1000-3\n",
    "    return round(sec*25)\n",
    "\n",
    "present_ratios_path = PATHS['present_ratios']\n",
    "out_of_range_path = PATHS['out_of_range']\n",
    "\n",
    "# To ignore the handedness of the annotation, we can use this dictionary instead\n",
    "# But the code has to also be adapted a bit to suit this analysis instead\n",
    "# anns_dicts = load_dict(destination)\n",
    "\n",
    "# Here, we analyze how often landmarks for the hands are detected given the annotations\n",
    "# Looping over the .eaf files (i.e. the different signer videos)\n",
    "if not os.path.exists(present_ratios_path) or not os.path.exists(out_of_range_path):\n",
    "    present_ratios = []\n",
    "    out_of_range = []\n",
    "    for i, k in enumerate(anns_with_tiers):\n",
    "        print(i, end = '\\r')\n",
    "        # Loading the numpy files for a specific video\n",
    "        lmrk_dict = load_numpy(cngt_lmrks, k.replace('.eaf', ''))\n",
    "\n",
    "        # Get the glosses of the file\n",
    "        anns_dict = anns_with_tiers[k]\n",
    "\n",
    "        # Adding all elements of the annotations to a dictionary\n",
    "        # In the format: (start_time, end_time, [side], sign_label)\n",
    "        items = []\n",
    "        for key in anns_dict:\n",
    "            # Add the key as an element to each tuple of timespans\n",
    "            tup_with_key = [(v)+(key,) for v in anns_dict[key]]\n",
    "            items += tup_with_key\n",
    "        for item in items:\n",
    "            # Two-handed signs unpack differently, don't include a 'side' element\n",
    "            if len(item) == 3:\n",
    "                start, end, key = item\n",
    "            else:\n",
    "                start, end, side, key = item\n",
    "\n",
    "            # Convert ms to frames to be compatible with mediapipe framewise landmarks\n",
    "            start_frame = ms_to_frame(start)\n",
    "            end_frame = ms_to_frame(end)\n",
    "\n",
    "            # Get which landmarks are present for the given annotation window\n",
    "            # And also keep track of how large this window is in total (counting also empty frames)\n",
    "            l_present, l_size = get_presence(lmrk_dict, 'l_hand', start_frame, end_frame+1)\n",
    "            r_present, r_size = get_presence(lmrk_dict, 'r_hand', start_frame, end_frame+1)\n",
    "\n",
    "            # If the annotation is completely out of bounds, we make a note of this and then skip\n",
    "            if l_size == 0 or r_size == 0:\n",
    "                out_of_range.append((k, start, end))\n",
    "                continue\n",
    "\n",
    "            # Depending on if it's a two-handed, manual simultaneous or regular (one-handed) sign,\n",
    "            # We process the number of frames for which the hand(s) is/are present differently\n",
    "            if '__2H' in key:\n",
    "                num_present = [len(l_present|r_present)]\n",
    "            elif '&&' in key:\n",
    "                num_present = [len(l_present), len(r_present)]\n",
    "            else:\n",
    "                if 'R' in side:\n",
    "                    num_present = [len(r_present)]\n",
    "                if 'L' in side:\n",
    "                    num_present = [len(l_present)]\n",
    "            # Loop over the number of present frames, getting their ratios\n",
    "            for num_p in num_present:\n",
    "                # Normalize by the total annotation size (if it exists)\n",
    "                # Does it matter if I do l_size or r_size? \n",
    "                # Should I use the start_frame, end_frame params instead of l_size?\n",
    "                present_ratio = num_p/l_size \n",
    "                present_ratios.append(present_ratio)\n",
    "    np.save(present_ratios_path, present_ratios)\n",
    "    np.save(out_of_range_path, out_of_range)\n",
    "else:\n",
    "    present_ratios = np.load(present_ratios_path)\n",
    "    out_of_range = np.load(out_of_range_path)"
   ]
  },
  {
   "cell_type": "code",
   "execution_count": 29,
   "id": "201b6379",
   "metadata": {},
   "outputs": [
    {
     "name": "stdout",
     "output_type": "stream",
     "text": [
      "Number of annotations out of range: 441\n",
      "Example of an out of range annotation: ['S007_CNGT0129.eaf' '2960' '3200']\n"
     ]
    },
    {
     "data": {
      "image/png": "[encoded data removed]",
      "text/plain": [
       "<Figure size 640x480 with 1 Axes>"
      ]
     },
     "metadata": {},
     "output_type": "display_data"
    }
   ],
   "source": [
    "print('Number of annotations out of range:', len(out_of_range))\n",
    "if len(out_of_range) > 0:\n",
    "    print('Example of an out of range annotation:', out_of_range[0])\n",
    "plt.hist(present_ratios, bins = 100)\n",
    "plt.title('Landmark presence ratios for the annotations')\n",
    "plt.xlabel('Ratio')\n",
    "plt.ylabel('Count')\n",
    "plt.show()"
   ]
  },
  {
   "cell_type": "code",
   "execution_count": 30,
   "id": "0afabd5b",
   "metadata": {},
   "outputs": [
    {
     "name": "stdout",
     "output_type": "stream",
     "text": [
      "Counts of frame presence ratios for annotations\n",
      "[(1.0, 93108), (0.9, 12396), (0.8, 8515), (0.0, 8031), (0.7, 4365), (0.6, 3240), (0.5, 2502), (0.4, 1772), (0.2, 1601), (0.3, 1539), (0.1, 922)]\n",
      "--------------------------------------------------\n",
      "137991 annotations in total\n",
      "125898 annotations reach the threshold number of present frames.\n",
      "91.24% of annotations have at least 40.0% of frames present\n",
      "Average presence ratio: 0.86\n"
     ]
    }
   ],
   "source": [
    "# Getting some statistics about the landmark presences\n",
    "\n",
    "# We round the ratios to one decimal to more easily group them together\n",
    "present_ratios_rounded = [round(x, 1 ) for x in present_ratios]\n",
    "# We then count the rounded ratios\n",
    "ratio_counts = Counter(present_ratios_rounded).items()\n",
    "\n",
    "# We set some threshold for what ratio of frames the landmarks should be detected for\n",
    "# E.g. threshold = 0.5 means 50% of the frames should have landmarks\n",
    "threshold = 0.4\n",
    "# We then filter to the ratios which meet this threshold, and sum their counts up\n",
    "filtered_ratios = [x for x in ratio_counts if x[0] >= threshold]\n",
    "anns_with_enough_frames = sum([x[1] for x in filtered_ratios])\n",
    "\n",
    "# Total number of annotations\n",
    "total_anns = len(present_ratios)\n",
    "# Getting the percentage of annotations with a landmark-presence ratio >= threshold\n",
    "num_frames_above_thresh = round(100*anns_with_enough_frames/total_anns, 2)\n",
    "\n",
    "# Printing the analysis\n",
    "print('Counts of frame presence ratios for annotations')\n",
    "print(sorted(ratio_counts, key = lambda x: x[1], reverse = True))\n",
    "print('-'*50)\n",
    "print('{} annotations in total'.format(total_anns))\n",
    "print('{} annotations reach the threshold number of present frames.'.format(anns_with_enough_frames))\n",
    "print('{}% of annotations have at least {}% of frames present'.format(num_frames_above_thresh, threshold*100))\n",
    "print('Average presence ratio:', round(np.mean(present_ratios),2))"
   ]
  },
  {
   "cell_type": "code",
   "execution_count": null,
   "id": "c5fca695",
   "metadata": {},
   "outputs": [],
   "source": []
  }
 ],
 "metadata": {
  "kernelspec": {
   "display_name": "Python 3 (ipykernel)",
   "language": "python",
   "name": "python3"
  },
  "language_info": {
   "codemirror_mode": {
    "name": "ipython",
    "version": 3
   },
   "file_extension": ".py",
   "mimetype": "text/x-python",
   "name": "python",
   "nbconvert_exporter": "python",
   "pygments_lexer": "ipython3",
   "version": "3.9.5"
  }
 },
 "nbformat": 4,
 "nbformat_minor": 5
}
